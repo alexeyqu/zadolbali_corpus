{
 "cells": [
  {
   "cell_type": "markdown",
   "metadata": {},
   "source": [
    "# Basic setup"
   ]
  },
  {
   "cell_type": "code",
   "execution_count": 60,
   "metadata": {
    "collapsed": true
   },
   "outputs": [],
   "source": [
    "from sqlalchemy import create_engine, MetaData, Table\n",
    "from sqlalchemy.orm import mapper, sessionmaker\n",
    "import requests\n",
    "import json\n",
    "from elasticsearch import Elasticsearch\n",
    "import re\n",
    "\n",
    "\n",
    "my_index = 'zadolbali'\n"
   ]
  },
  {
   "cell_type": "code",
   "execution_count": 25,
   "metadata": {},
   "outputs": [
    {
     "name": "stdout",
     "output_type": "stream",
     "text": [
      "{\n",
      "  \"name\" : \"-L9u61j\",\n",
      "  \"cluster_name\" : \"elasticsearch\",\n",
      "  \"cluster_uuid\" : \"7yPgKxlWRwmSpPqu9E9w2A\",\n",
      "  \"version\" : {\n",
      "    \"number\" : \"5.6.3\",\n",
      "    \"build_hash\" : \"1a2f265\",\n",
      "    \"build_date\" : \"2017-10-06T20:33:39.012Z\",\n",
      "    \"build_snapshot\" : false,\n",
      "    \"lucene_version\" : \"6.6.1\"\n",
      "  },\n",
      "  \"tagline\" : \"You Know, for Search\"\n",
      "}\n",
      "\n"
     ]
    }
   ],
   "source": [
    "print(requests.get('http://localhost:9200').text)\n",
    "es = Elasticsearch([{'host': 'localhost', 'port': 9200}])"
   ]
  },
  {
   "cell_type": "code",
   "execution_count": 26,
   "metadata": {},
   "outputs": [
    {
     "name": "stdout",
     "output_type": "stream",
     "text": [
      "epoch      timestamp cluster       status node.total node.data shards pri relo init unassign pending_tasks max_task_wait_time active_shards_percent\n",
      "1509974899 16:28:19  elasticsearch yellow          1         1      6   6    0    0        6             0                  -                 50.0%\n",
      "\n",
      "ip        heap.percent ram.percent cpu load_1m load_5m load_15m node.role master name\n",
      "127.0.0.1           20          72  45    0.93    0.76     0.56 mdi       *      -L9u61j\n",
      "\n",
      "index     shard prirep state      docs  store ip        node\n",
      "zadolbali 4     p      STARTED    4752 18.2mb 127.0.0.1 -L9u61j\n",
      "zadolbali 4     r      UNASSIGNED                       \n",
      "zadolbali 2     p      STARTED    4746 18.9mb 127.0.0.1 -L9u61j\n",
      "zadolbali 2     r      UNASSIGNED                       \n",
      "zadolbali 3     p      STARTED    4729 18.5mb 127.0.0.1 -L9u61j\n",
      "zadolbali 3     r      UNASSIGNED                       \n",
      "zadolbali 1     p      STARTED    4686 18.5mb 127.0.0.1 -L9u61j\n",
      "zadolbali 1     r      UNASSIGNED                       \n",
      "zadolbali 0     p      STARTED    4645 18.2mb 127.0.0.1 -L9u61j\n",
      "zadolbali 0     r      UNASSIGNED                       \n",
      ".kibana   0     p      STARTED       2 10.8kb 127.0.0.1 -L9u61j\n",
      ".kibana   0     r      UNASSIGNED                       \n",
      "\n",
      "health status index     uuid                   pri rep docs.count docs.deleted store.size pri.store.size\n",
      "yellow open   .kibana   L5hEXnBERGe6czr2OJchfg   1   1          2            1     10.8kb         10.8kb\n",
      "yellow open   zadolbali o6c21JfcRimc3IUs4LUJ0g   5   1      23558            0     92.5mb         92.5mb\n",
      "\n"
     ]
    }
   ],
   "source": [
    "def get_es_stats():\n",
    "    print(requests.get('http://localhost:9200/_cat/health?v').text)\n",
    "    print(requests.get('http://localhost:9200/_cat/nodes?v').text)\n",
    "    print(requests.get('http://localhost:9200/_cat/shards?v').text)\n",
    "    print(requests.get('http://localhost:9200/_cat/indices?v').text)\n",
    "\n",
    "get_es_stats()"
   ]
  },
  {
   "cell_type": "markdown",
   "metadata": {},
   "source": [
    "# Delete zadolbali index"
   ]
  },
  {
   "cell_type": "code",
   "execution_count": 4,
   "metadata": {},
   "outputs": [
    {
     "name": "stdout",
     "output_type": "stream",
     "text": [
      "{\n",
      "  \"acknowledged\" : true\n",
      "}\n",
      "\n"
     ]
    }
   ],
   "source": [
    "def delete_index(index):\n",
    "    return requests.delete('http://localhost:9200/{0}?pretty'.format(index)).text\n",
    "print(delete_index(my_index))"
   ]
  },
  {
   "cell_type": "code",
   "execution_count": 5,
   "metadata": {},
   "outputs": [
    {
     "name": "stdout",
     "output_type": "stream",
     "text": [
      "epoch      timestamp cluster       status node.total node.data shards pri relo init unassign pending_tasks max_task_wait_time active_shards_percent\n",
      "1509890898 17:08:18  elasticsearch yellow          1         1      1   1    0    0        1             0                  -                 50.0%\n",
      "\n",
      "ip        heap.percent ram.percent cpu load_1m load_5m load_15m node.role master name\n",
      "127.0.0.1           14          69  22    1.29    1.50     1.26 mdi       *      -L9u61j\n",
      "\n",
      "index   shard prirep state      docs  store ip        node\n",
      ".kibana 0     p      STARTED       2 10.8kb 127.0.0.1 -L9u61j\n",
      ".kibana 0     r      UNASSIGNED                       \n",
      "\n",
      "health status index   uuid                   pri rep docs.count docs.deleted store.size pri.store.size\n",
      "yellow open   .kibana L5hEXnBERGe6czr2OJchfg   1   1          2            1     10.8kb         10.8kb\n",
      "\n"
     ]
    }
   ],
   "source": [
    "get_es_stats()"
   ]
  },
  {
   "cell_type": "markdown",
   "metadata": {},
   "source": [
    "# Create index"
   ]
  },
  {
   "cell_type": "code",
   "execution_count": 6,
   "metadata": {
    "collapsed": true
   },
   "outputs": [],
   "source": [
    "def create_index(index, settings):\n",
    "    return requests.put('http://localhost:9200/zadolbali', data=json.dumps(settings)).text\n",
    "\n",
    "def setup_index_mapping(index, settings):\n",
    "    headers = {'Content-type': 'application/json', 'Accept': 'text/plain'}\n",
    "    return requests.put('http://localhost:9200/zadolbali/_mappings/story?pretty', headers=headers, data=json.dumps(settings)).text\n",
    "\n",
    "def get_index_state(index):\n",
    "    print(requests.get('http://localhost:9200/{0}/_settings?pretty'.format(index)).text)\n",
    "    print(requests.get('http://localhost:9200/{0}/_mapping?pretty'.format(index)).text)"
   ]
  },
  {
   "cell_type": "code",
   "execution_count": 7,
   "metadata": {},
   "outputs": [
    {
     "data": {
      "text/plain": [
       "'{\"acknowledged\":true,\"shards_acknowledged\":true,\"index\":\"zadolbali\"}'"
      ]
     },
     "execution_count": 7,
     "metadata": {},
     "output_type": "execute_result"
    }
   ],
   "source": [
    "create_settings = {\n",
    "    'settings' : {\n",
    "        'index' : {\n",
    "            'number_of_shards' : 5,\n",
    "            'number_of_replicas' : 1\n",
    "        }\n",
    "    }\n",
    "}\n",
    "\n",
    "create_index(my_index, create_settings)"
   ]
  },
  {
   "cell_type": "code",
   "execution_count": 8,
   "metadata": {},
   "outputs": [
    {
     "name": "stdout",
     "output_type": "stream",
     "text": [
      "{\n",
      "  \"acknowledged\" : true\n",
      "}\n",
      "\n"
     ]
    }
   ],
   "source": [
    "mapping_settings = {\n",
    "    'properties': {\n",
    "        'id': { 'type': 'integer' },\n",
    "        'title':  { \n",
    "            'type': 'text',\n",
    "            'analyzer': 'russian'\n",
    "        },\n",
    "        'text': { \n",
    "            'type': 'text',\n",
    "            'analyzer': 'russian'\n",
    "        },\n",
    "        'published': {\n",
    "            'type': 'date',\n",
    "            'format': 'yyyyMMdd'\n",
    "            },\n",
    "        'likes': { 'type': 'integer' },\n",
    "        'tags': { \n",
    "            'type': 'keyword'\n",
    "        },\n",
    "        'url': { 'type': 'text' }\n",
    "    }\n",
    "}\n",
    "\n",
    "print(setup_index_mapping(my_index, mapping_settings))"
   ]
  },
  {
   "cell_type": "code",
   "execution_count": 9,
   "metadata": {
    "scrolled": true
   },
   "outputs": [
    {
     "name": "stdout",
     "output_type": "stream",
     "text": [
      "{\n",
      "  \"zadolbali\" : {\n",
      "    \"settings\" : {\n",
      "      \"index\" : {\n",
      "        \"creation_date\" : \"1509890899241\",\n",
      "        \"number_of_shards\" : \"5\",\n",
      "        \"number_of_replicas\" : \"1\",\n",
      "        \"uuid\" : \"f2SHcUU0Rcmn9ONHxhHQBg\",\n",
      "        \"version\" : {\n",
      "          \"created\" : \"5060399\"\n",
      "        },\n",
      "        \"provided_name\" : \"zadolbali\"\n",
      "      }\n",
      "    }\n",
      "  }\n",
      "}\n",
      "\n",
      "{\n",
      "  \"zadolbali\" : {\n",
      "    \"mappings\" : {\n",
      "      \"story\" : {\n",
      "        \"properties\" : {\n",
      "          \"id\" : {\n",
      "            \"type\" : \"integer\"\n",
      "          },\n",
      "          \"likes\" : {\n",
      "            \"type\" : \"integer\"\n",
      "          },\n",
      "          \"published\" : {\n",
      "            \"type\" : \"date\",\n",
      "            \"format\" : \"yyyyMMdd\"\n",
      "          },\n",
      "          \"tags\" : {\n",
      "            \"type\" : \"keyword\"\n",
      "          },\n",
      "          \"text\" : {\n",
      "            \"type\" : \"text\",\n",
      "            \"analyzer\" : \"russian\"\n",
      "          },\n",
      "          \"title\" : {\n",
      "            \"type\" : \"text\",\n",
      "            \"analyzer\" : \"russian\"\n",
      "          },\n",
      "          \"url\" : {\n",
      "            \"type\" : \"text\"\n",
      "          }\n",
      "        }\n",
      "      }\n",
      "    }\n",
      "  }\n",
      "}\n",
      "\n"
     ]
    }
   ],
   "source": [
    "get_index_state(my_index)"
   ]
  },
  {
   "cell_type": "markdown",
   "metadata": {},
   "source": [
    "# Get data"
   ]
  },
  {
   "cell_type": "code",
   "execution_count": 10,
   "metadata": {},
   "outputs": [
    {
     "name": "stdout",
     "output_type": "stream",
     "text": [
      "2017-11-05 17:08:21,208 INFO sqlalchemy.engine.base.Engine SELECT CAST('test plain returns' AS VARCHAR(60)) AS anon_1\n",
      "2017-11-05 17:08:21,209 INFO sqlalchemy.engine.base.Engine ()\n",
      "2017-11-05 17:08:21,210 INFO sqlalchemy.engine.base.Engine SELECT CAST('test unicode returns' AS VARCHAR(60)) AS anon_1\n",
      "2017-11-05 17:08:21,211 INFO sqlalchemy.engine.base.Engine ()\n",
      "2017-11-05 17:08:21,212 INFO sqlalchemy.engine.base.Engine PRAGMA table_info(\"stories\")\n",
      "2017-11-05 17:08:21,213 INFO sqlalchemy.engine.base.Engine ()\n",
      "2017-11-05 17:08:21,216 INFO sqlalchemy.engine.base.Engine SELECT sql FROM  (SELECT * FROM sqlite_master UNION ALL   SELECT * FROM sqlite_temp_master) WHERE name = 'stories' AND type = 'table'\n",
      "2017-11-05 17:08:21,217 INFO sqlalchemy.engine.base.Engine ()\n",
      "2017-11-05 17:08:21,222 INFO sqlalchemy.engine.base.Engine PRAGMA foreign_key_list(\"stories\")\n",
      "2017-11-05 17:08:21,223 INFO sqlalchemy.engine.base.Engine ()\n",
      "2017-11-05 17:08:21,224 INFO sqlalchemy.engine.base.Engine SELECT sql FROM  (SELECT * FROM sqlite_master UNION ALL   SELECT * FROM sqlite_temp_master) WHERE name = 'stories' AND type = 'table'\n",
      "2017-11-05 17:08:21,225 INFO sqlalchemy.engine.base.Engine ()\n",
      "2017-11-05 17:08:21,229 INFO sqlalchemy.engine.base.Engine PRAGMA index_list(\"stories\")\n",
      "2017-11-05 17:08:21,230 INFO sqlalchemy.engine.base.Engine ()\n",
      "2017-11-05 17:08:21,231 INFO sqlalchemy.engine.base.Engine PRAGMA index_list(\"stories\")\n",
      "2017-11-05 17:08:21,232 INFO sqlalchemy.engine.base.Engine ()\n",
      "2017-11-05 17:08:21,233 INFO sqlalchemy.engine.base.Engine SELECT sql FROM  (SELECT * FROM sqlite_master UNION ALL   SELECT * FROM sqlite_temp_master) WHERE name = 'stories' AND type = 'table'\n",
      "2017-11-05 17:08:21,234 INFO sqlalchemy.engine.base.Engine ()\n"
     ]
    }
   ],
   "source": [
    "class Story(object):\n",
    "    pass\n",
    " \n",
    "def loadSession():\n",
    "    dbPath = '../corpus/stories.sqlite'\n",
    "    engine = create_engine('sqlite:///%s' % dbPath, echo=True)\n",
    " \n",
    "    bookmarks = Table('stories', MetaData(engine), autoload=True)\n",
    "    mapper(Story, bookmarks)\n",
    " \n",
    "    Session = sessionmaker(bind=engine)\n",
    "    session = Session()\n",
    "    return session\n",
    "\n",
    "session = loadSession()"
   ]
  },
  {
   "cell_type": "code",
   "execution_count": 56,
   "metadata": {},
   "outputs": [
    {
     "name": "stdout",
     "output_type": "stream",
     "text": [
      "2017-11-06 17:06:43,336 INFO sqlalchemy.engine.base.Engine SELECT stories.id AS stories_id, stories.title AS stories_title, stories.published AS stories_published, stories.tags AS stories_tags, stories.text AS stories_text, stories.likes AS stories_likes, stories.hrefs AS stories_hrefs, stories.url AS stories_url \n",
      "FROM stories\n",
      "2017-11-06 17:06:43,338 INFO sqlalchemy.engine.base.Engine ()\n",
      "23558\n",
      "['__class__', '__delattr__', '__dict__', '__dir__', '__doc__', '__eq__', '__format__', '__ge__', '__getattribute__', '__gt__', '__hash__', '__init__', '__init_subclass__', '__le__', '__lt__', '__module__', '__ne__', '__new__', '__reduce__', '__reduce_ex__', '__repr__', '__setattr__', '__sizeof__', '__str__', '__subclasshook__', '__weakref__', '_sa_class_manager', '_sa_instance_state', 'hrefs', 'id', 'likes', 'published', 'tags', 'text', 'title', 'url']\n"
     ]
    }
   ],
   "source": [
    "stories = session.query(Story).all()\n",
    "print(len(stories))\n",
    "print(dir(stories[0]))"
   ]
  },
  {
   "cell_type": "markdown",
   "metadata": {},
   "source": [
    "# Index it!"
   ]
  },
  {
   "cell_type": "code",
   "execution_count": 12,
   "metadata": {
    "collapsed": true
   },
   "outputs": [],
   "source": [
    "# 'hrefs', 'id', 'likes', 'published', 'tags', 'text', 'title', 'url'\n",
    "def index_data(index):\n",
    "    for story in stories:\n",
    "        body = {\n",
    "            'id': story.id,\n",
    "            'title': story.title,\n",
    "            'text': story.text,\n",
    "            'published': story.published,\n",
    "            'likes': story.likes,\n",
    "            'tags': story.tags.split(' '),\n",
    "            'url': story.url\n",
    "        }\n",
    "        es.index(index=index, doc_type='story', id=story.id, body=body)\n",
    "index_data(my_index)"
   ]
  },
  {
   "cell_type": "markdown",
   "metadata": {},
   "source": [
    "# Search it!"
   ]
  },
  {
   "cell_type": "code",
   "execution_count": 13,
   "metadata": {
    "collapsed": true
   },
   "outputs": [],
   "source": [
    "def run_easy_tests(index):\n",
    "    print(es.get(index=index, id=2))\n",
    "    print(es.search(index=index, doc_type='story', body={'query': {'match': {'tags': 'mail'}}}))\n"
   ]
  },
  {
   "cell_type": "code",
   "execution_count": 14,
   "metadata": {
    "scrolled": false
   },
   "outputs": [
    {
     "name": "stdout",
     "output_type": "stream",
     "text": [
      "{'_index': 'zadolbali', '_type': 'story', '_id': '2', '_version': 1, 'found': True, '_source': {'id': 2, 'title': 'Это был не металл!', 'text': 'Работаю в провинциальном городе в магазине отделочных материалов и сантехники.Заходит к нам на днях надменная пергидролевая дева, покрытая слоем штукатурки толщиной в палец. Собирается с мыслями, напускает на себя важный вид и обращается ко мне:Дева, медленно и с видом опытного сантехника: Молодой человек, у вас ванны железные есть?Я: Нет, у нас только акрил. Металлических нет.Дева: Молодой человек, я не спрашиваю металлические, я спрашиваю железные!Я: Извините, железных тоже нет.Дева презрительно смотрит на меня, бурчит что-то себе под нос, и, виляя бедрами, уходит. Смотрим в окно. Выходит. Подходит к побитой жизнью шестерке, деловито садится на переднее сиденье, подзывает торопливо курящего поодаль водителя.Дева, возмущенно: Понабрали крестьян, металлические ванны от железных не отличают!Водитель, тяжело вздохнув, затаптывает окурок, занимает свое место, и экипаж отправляется дальше, на поиски волшебной неметаллической ванны из железа.', 'published': 20090910, 'likes': 0, 'tags': ['women', 'sellers'], 'url': 'http://zadolba.li/story/2'}}\n",
      "{'took': 1, 'timed_out': False, '_shards': {'total': 5, 'successful': 5, 'skipped': 0, 'failed': 0}, 'hits': {'total': 3, 'max_score': 2.4849067, 'hits': [{'_index': 'zadolbali', '_type': 'story', '_id': '6', '_score': 2.4849067, '_source': {'id': 6, 'title': 'Мы его почти победили!', 'text': 'Переписка с клиентом:Я: Здравствуйте, а у вас есть рабочий номер?Клиент: тел. хх-хх-ххЯ: Скажите тогда, почему там срабатывает факс?Клиент: Да, есть такая проблема. Мы боремся с ней!Что делать, за факсом нужен глаз да глаз.', 'published': 20091006, 'likes': 828, 'tags': ['mail'], 'url': 'http://zadolba.li/story/6'}}, {'_index': 'zadolbali', '_type': 'story', '_id': '5', '_score': 2.2192035, '_source': {'id': 5, 'title': 'Атака одушевленного обьекта', 'text': 'Работаю в страховой компании. Любимые клиенты пишут:«На крышу мерседеса упала с балкона кошка. Cуществуют риски \"падение предмета\" и \"атака животного\". Что писать в страховом акте?»Претензионщики мрачно шутят, что если бы она упала и померла в полете — то было бы проще. Записали бы предметом.', 'published': 20090915, 'likes': 0, 'tags': ['insurers', 'mail'], 'url': 'http://zadolba.li/story/5'}}, {'_index': 'zadolbali', '_type': 'story', '_id': '104', '_score': 2.2192035, '_source': {'id': 104, 'title': 'Страшно, аж жуть!', 'text': 'Руководил филиалом компании продающей грузовики, по долгу службы общался с директором одной компании, которой была нужна наша продукция. За время беседы стало понятно, что деньги у них есть, машины нужны, так как в кризис производство не упало. Но клиент почему-то мялся и машины не брал.Я: Для начала вы можете приобрести один автомобиль!Клиент: Вы знаете, кризис в стране, мы сейчас не готовы брать машины...Я: Но ведь вашему производству они необходимы?Клиент: Да. Очень нужны, как воздух.Я: Вас не устраивают наши машины?Клиент: Они идеально нам подходят, но кризис...Я: Вы считаете их дорогими?Клиент: Нет, цена лучшая в сегменте.Я: Наша компания готова в случае необходимости сама, без банков, кредитовать вас!Клиент: Нет, спасибо, деньги у нас есть. Просто кризис.Я: Но ведь ваше производство может встать!Клиент: Может. Но мы боимся, кризис...Так и не смог убедить этого клиента. Дело происходил в ноябре 2008 г. Этим летом, уже не работая в компании, я встретился с директором той конторы случайно. Решил узнать, как у них дела.Бывший клиент: Да туго, машины так и не купили, не справляемся.Я: А почему не купили?Бывший клиент: Кризис... Боимся...', 'published': 20091019, 'likes': 1517, 'tags': ['mail'], 'url': 'http://zadolba.li/story/104'}}]}}\n",
      "None\n"
     ]
    }
   ],
   "source": [
    "print(run_easy_tests(my_index))"
   ]
  },
  {
   "cell_type": "markdown",
   "metadata": {},
   "source": [
    "## Поищем что-то посложнее.."
   ]
  },
  {
   "cell_type": "code",
   "execution_count": 15,
   "metadata": {
    "collapsed": true
   },
   "outputs": [],
   "source": [
    "def run_hard_tests(index):\n",
    "    print(es.search(index=index, doc_type='story', body={'query': {'match': {'text': 'страховая'}}}))\n",
    "    print(es.search(index=index, doc_type='story', body={'query': {'match': {'text': 'страхов'}}}))"
   ]
  },
  {
   "cell_type": "code",
   "execution_count": 16,
   "metadata": {},
   "outputs": [
    {
     "name": "stdout",
     "output_type": "stream",
     "text": [
      "{'took': 2, 'timed_out': False, '_shards': {'total': 5, 'successful': 5, 'skipped': 0, 'failed': 0}, 'hits': {'total': 3, 'max_score': 4.0308046, 'hits': [{'_index': 'zadolbali', '_type': 'story', '_id': '5', '_score': 4.0308046, '_source': {'id': 5, 'title': 'Атака одушевленного обьекта', 'text': 'Работаю в страховой компании. Любимые клиенты пишут:«На крышу мерседеса упала с балкона кошка. Cуществуют риски \"падение предмета\" и \"атака животного\". Что писать в страховом акте?»Претензионщики мрачно шутят, что если бы она упала и померла в полете — то было бы проще. Записали бы предметом.', 'published': 20090915, 'likes': 0, 'tags': ['insurers', 'mail'], 'url': 'http://zadolba.li/story/5'}}, {'_index': 'zadolbali', '_type': 'story', '_id': '85', '_score': 2.2460778, '_source': {'id': 85, 'title': 'Готовил сани летом', 'text': 'Работаю в страховой компании. В правилах обслуживания чётко, русским по белому написано, что заявить о страховом случае в компанию необходимо в течении трёх рабочих дней. Когда я заключаю договор с клиентами, я заостряю внимание на этом моменте и даю визитку — если что-то случится, а вы не будете знать порядок действий, звоните.Ага-ага. Вчера звонит возмущенный мужчина: «Ах, такие сякие, вы мне отказали в выплате!» Начинаю разбираться, в чём суть дела, звоню коллегам, занимающимися выплатами и наконец понимаю причину отказа.Заявлении о происшествии, написанное 15 августа: «Я счищал оледенелый снег с капота своего автомобиля вместе с лакокрасочным покрытием...»Звоню ему и спрашиваю: «А где же, друг мой любезный, ты в середине августа оледенелый снег нашел?» Он только смеётся: «Ты чё, не понимаешь что ли, это было в феврале! Какой ещё снег в августе?»Эх, как же вы мне все дороги...', 'published': 20091016, 'likes': 1188, 'tags': ['insurers'], 'url': 'http://zadolba.li/story/85'}}, {'_index': 'zadolbali', '_type': 'story', '_id': '55', '_score': 1.4884255, '_source': {'id': 55, 'title': 'Кошмары и ужасы страхования', 'text': 'Работаю в страховой компании. Каждый день происходят совершенно неземные диалоги с клиентами:— Девушка, я вам вчера звонил, соедените меня с тем же самым.— С кем вы разговаривали?— С парнем.— Как его зовут?— Не знаю.— Про что вы у него узнавали?— Про страхование!— Страхование чего? (злость начинает подступать к горлу)— Машины!— Соединяю с отделом КАСКО. (через минуту) У них телефон занят. Что передать?— Передайте, что я звонил! *вешает трубку*— Девушка!— Да, я вас слушаю.— А это точно %компания%?— Да, это %компания%.— Вы меня не обманываете?— Нет! Конечно же, вы попали именно в %компанию%. Чем вам помочь?— Да? А, ну ладно, спасибо. *короткие гудки*— Дэвущка! Это страховка?— %Компания%, я вас слушаю.— Дэнэг нет, ехал из Казан, попал аварий, что дэлать?— Вы повредили автомобиль или (чуть не сказала «испортились») что-то произошло с вами?— И машын, и я!— У вас что застраховано?— Всё!— И жизнь, и авто?— Да!Соединяю с мальчшками из авто отдела. Оказывается, что мужчина въехал в столб, застрахован только по ОСАГО, да ещё и в другой компании. А нам он позвонил, потому что «ваш телефон на рекламе увидел».', 'published': 20091014, 'likes': 1070, 'tags': ['insurers'], 'url': 'http://zadolba.li/story/55'}}]}}\n",
      "{'took': 2, 'timed_out': False, '_shards': {'total': 5, 'successful': 5, 'skipped': 0, 'failed': 0}, 'hits': {'total': 0, 'max_score': None, 'hits': []}}\n",
      "None\n"
     ]
    }
   ],
   "source": [
    "print(run_hard_tests(my_index))"
   ]
  },
  {
   "cell_type": "markdown",
   "metadata": {},
   "source": [
    "## Ага! У нас не работает стеммер!"
   ]
  },
  {
   "cell_type": "code",
   "execution_count": 17,
   "metadata": {},
   "outputs": [
    {
     "name": "stdout",
     "output_type": "stream",
     "text": [
      "{\n",
      "  \"acknowledged\" : true\n",
      "}\n",
      "\n",
      "{\"acknowledged\":true,\"shards_acknowledged\":true,\"index\":\"zadolbali\"}\n",
      "{\"acknowledged\":true}\n"
     ]
    }
   ],
   "source": [
    "print(delete_index(my_index))\n",
    "print(create_index(my_index, create_settings))\n",
    "print(requests.post('http://localhost:9200/zadolbali/_close').text)"
   ]
  },
  {
   "cell_type": "code",
   "execution_count": 18,
   "metadata": {
    "collapsed": true
   },
   "outputs": [],
   "source": [
    "def setup_index_settings(index, settings):\n",
    "    headers = {'Content-type': 'application/json', 'Accept': 'text/plain'}\n",
    "    return requests.put('http://localhost:9200/zadolbali/_settings?pretty', headers=headers, data=json.dumps(settings)).text\n"
   ]
  },
  {
   "cell_type": "code",
   "execution_count": 19,
   "metadata": {},
   "outputs": [
    {
     "name": "stdout",
     "output_type": "stream",
     "text": [
      "{\n",
      "  \"acknowledged\" : true\n",
      "}\n",
      "\n"
     ]
    }
   ],
   "source": [
    "# stolen from https://gist.github.com/svartalf/4465752\n",
    "\n",
    "index_settings = {\n",
    "    'analysis': {\n",
    "        'analyzer': {\n",
    "            'ru': {\n",
    "                'type': 'custom',\n",
    "                'tokenizer': 'standard',\n",
    "                'filter': ['lowercase', 'russian_morphology', 'english_morphology', 'ru_stopwords'],\n",
    "            },\n",
    "        },\n",
    "        'filter': {\n",
    "            'ru_stopwords': {\n",
    "                'type': 'stop',\n",
    "                'stopwords': u'а,без,более,бы,был,была,были,было,быть,в,вам,вас,весь,во,вот,все,всего,всех,вы,где,да,даже,для,до,его,ее,если,есть,еще,же,за,здесь,и,из,или,им,их,к,как,ко,когда,кто,ли,либо,мне,может,мы,на,надо,наш,не,него,нее,нет,ни,них,но,ну,о,об,однако,он,она,они,оно,от,очень,по,под,при,с,со,так,также,такой,там,те,тем,то,того,тоже,той,только,том,ты,у,уже,хотя,чего,чей,чем,что,чтобы,чье,чья,эта,эти,это,я,a,an,and,are,as,at,be,but,by,for,if,in,into,is,it,no,not,of,on,or,such,that,the,their,then,there,these,they,this,to,was,will,with',\n",
    "            },\n",
    "            'ru_stemming': {\n",
    "                'type': 'snowball',\n",
    "                'language': 'Russian',\n",
    "            }\n",
    "        },\n",
    "\n",
    "    }\n",
    "}\n",
    "\n",
    "\n",
    "print(setup_index_settings(my_index, index_settings))"
   ]
  },
  {
   "cell_type": "code",
   "execution_count": 20,
   "metadata": {},
   "outputs": [
    {
     "name": "stdout",
     "output_type": "stream",
     "text": [
      "{\"acknowledged\":true}\n",
      "{\n",
      "  \"acknowledged\" : true\n",
      "}\n",
      "\n"
     ]
    }
   ],
   "source": [
    "print(requests.post('http://localhost:9200/zadolbali/_open').text)\n",
    "\n",
    "mapping_settings = {\n",
    "    'properties': {\n",
    "        'id': { 'type': 'integer' },\n",
    "        'title':  { \n",
    "            'type': 'text',\n",
    "            'analyzer': 'ru'\n",
    "        },\n",
    "        'text': { \n",
    "            'type': 'text',\n",
    "            'analyzer': 'ru'\n",
    "        },\n",
    "        'published': {\n",
    "            'type': 'date',\n",
    "            'format': 'yyyyMMdd'\n",
    "            },\n",
    "        'likes': { 'type': 'integer' },\n",
    "        'tags': { \n",
    "            'type': 'keyword'\n",
    "        },\n",
    "        'url': { 'type': 'text' }\n",
    "    }\n",
    "}\n",
    "\n",
    "print(setup_index_mapping(my_index, mapping_settings))"
   ]
  },
  {
   "cell_type": "code",
   "execution_count": 21,
   "metadata": {
    "collapsed": true
   },
   "outputs": [],
   "source": [
    "index_data(my_index)"
   ]
  },
  {
   "cell_type": "code",
   "execution_count": 22,
   "metadata": {},
   "outputs": [
    {
     "name": "stdout",
     "output_type": "stream",
     "text": [
      "{\n",
      "  \"zadolbali\" : {\n",
      "    \"settings\" : {\n",
      "      \"index\" : {\n",
      "        \"number_of_shards\" : \"5\",\n",
      "        \"provided_name\" : \"zadolbali\",\n",
      "        \"creation_date\" : \"1509890910315\",\n",
      "        \"analysis\" : {\n",
      "          \"filter\" : {\n",
      "            \"ru_stemming\" : {\n",
      "              \"type\" : \"snowball\",\n",
      "              \"language\" : \"Russian\"\n",
      "            },\n",
      "            \"ru_stopwords\" : {\n",
      "              \"type\" : \"stop\",\n",
      "              \"stopwords\" : \"а,без,более,бы,был,была,были,было,быть,в,вам,вас,весь,во,вот,все,всего,всех,вы,где,да,даже,для,до,его,ее,если,есть,еще,же,за,здесь,и,из,или,им,их,к,как,ко,когда,кто,ли,либо,мне,может,мы,на,надо,наш,не,него,нее,нет,ни,них,но,ну,о,об,однако,он,она,они,оно,от,очень,по,под,при,с,со,так,также,такой,там,те,тем,то,того,тоже,той,только,том,ты,у,уже,хотя,чего,чей,чем,что,чтобы,чье,чья,эта,эти,это,я,a,an,and,are,as,at,be,but,by,for,if,in,into,is,it,no,not,of,on,or,such,that,the,their,then,there,these,they,this,to,was,will,with\"\n",
      "            }\n",
      "          },\n",
      "          \"analyzer\" : {\n",
      "            \"ru\" : {\n",
      "              \"filter\" : [\n",
      "                \"lowercase\",\n",
      "                \"russian_morphology\",\n",
      "                \"english_morphology\",\n",
      "                \"ru_stopwords\"\n",
      "              ],\n",
      "              \"type\" : \"custom\",\n",
      "              \"tokenizer\" : \"standard\"\n",
      "            }\n",
      "          }\n",
      "        },\n",
      "        \"number_of_replicas\" : \"1\",\n",
      "        \"uuid\" : \"fLOPKwa0QC6oXijkEjrP2A\",\n",
      "        \"version\" : {\n",
      "          \"created\" : \"5060399\"\n",
      "        }\n",
      "      }\n",
      "    }\n",
      "  }\n",
      "}\n",
      "\n",
      "{\n",
      "  \"zadolbali\" : {\n",
      "    \"mappings\" : {\n",
      "      \"story\" : {\n",
      "        \"properties\" : {\n",
      "          \"id\" : {\n",
      "            \"type\" : \"integer\"\n",
      "          },\n",
      "          \"likes\" : {\n",
      "            \"type\" : \"integer\"\n",
      "          },\n",
      "          \"published\" : {\n",
      "            \"type\" : \"date\",\n",
      "            \"format\" : \"yyyyMMdd\"\n",
      "          },\n",
      "          \"tags\" : {\n",
      "            \"type\" : \"keyword\"\n",
      "          },\n",
      "          \"text\" : {\n",
      "            \"type\" : \"text\",\n",
      "            \"analyzer\" : \"ru\"\n",
      "          },\n",
      "          \"title\" : {\n",
      "            \"type\" : \"text\",\n",
      "            \"analyzer\" : \"ru\"\n",
      "          },\n",
      "          \"url\" : {\n",
      "            \"type\" : \"text\"\n",
      "          }\n",
      "        }\n",
      "      }\n",
      "    }\n",
      "  }\n",
      "}\n",
      "\n"
     ]
    }
   ],
   "source": [
    "get_index_state(my_index)"
   ]
  },
  {
   "cell_type": "code",
   "execution_count": 23,
   "metadata": {},
   "outputs": [
    {
     "name": "stdout",
     "output_type": "stream",
     "text": [
      "{'took': 4, 'timed_out': False, '_shards': {'total': 5, 'successful': 5, 'skipped': 0, 'failed': 0}, 'hits': {'total': 3, 'max_score': 4.2066126, 'hits': [{'_index': 'zadolbali', '_type': 'story', '_id': '5', '_score': 4.2066126, '_source': {'id': 5, 'title': 'Атака одушевленного обьекта', 'text': 'Работаю в страховой компании. Любимые клиенты пишут:«На крышу мерседеса упала с балкона кошка. Cуществуют риски \"падение предмета\" и \"атака животного\". Что писать в страховом акте?»Претензионщики мрачно шутят, что если бы она упала и померла в полете — то было бы проще. Записали бы предметом.', 'published': 20090915, 'likes': 0, 'tags': ['insurers', 'mail'], 'url': 'http://zadolba.li/story/5'}}, {'_index': 'zadolbali', '_type': 'story', '_id': '85', '_score': 2.3874907, '_source': {'id': 85, 'title': 'Готовил сани летом', 'text': 'Работаю в страховой компании. В правилах обслуживания чётко, русским по белому написано, что заявить о страховом случае в компанию необходимо в течении трёх рабочих дней. Когда я заключаю договор с клиентами, я заостряю внимание на этом моменте и даю визитку — если что-то случится, а вы не будете знать порядок действий, звоните.Ага-ага. Вчера звонит возмущенный мужчина: «Ах, такие сякие, вы мне отказали в выплате!» Начинаю разбираться, в чём суть дела, звоню коллегам, занимающимися выплатами и наконец понимаю причину отказа.Заявлении о происшествии, написанное 15 августа: «Я счищал оледенелый снег с капота своего автомобиля вместе с лакокрасочным покрытием...»Звоню ему и спрашиваю: «А где же, друг мой любезный, ты в середине августа оледенелый снег нашел?» Он только смеётся: «Ты чё, не понимаешь что ли, это было в феврале! Какой ещё снег в августе?»Эх, как же вы мне все дороги...', 'published': 20091016, 'likes': 1188, 'tags': ['insurers'], 'url': 'http://zadolba.li/story/85'}}, {'_index': 'zadolbali', '_type': 'story', '_id': '55', '_score': 1.6297764, '_source': {'id': 55, 'title': 'Кошмары и ужасы страхования', 'text': 'Работаю в страховой компании. Каждый день происходят совершенно неземные диалоги с клиентами:— Девушка, я вам вчера звонил, соедените меня с тем же самым.— С кем вы разговаривали?— С парнем.— Как его зовут?— Не знаю.— Про что вы у него узнавали?— Про страхование!— Страхование чего? (злость начинает подступать к горлу)— Машины!— Соединяю с отделом КАСКО. (через минуту) У них телефон занят. Что передать?— Передайте, что я звонил! *вешает трубку*— Девушка!— Да, я вас слушаю.— А это точно %компания%?— Да, это %компания%.— Вы меня не обманываете?— Нет! Конечно же, вы попали именно в %компанию%. Чем вам помочь?— Да? А, ну ладно, спасибо. *короткие гудки*— Дэвущка! Это страховка?— %Компания%, я вас слушаю.— Дэнэг нет, ехал из Казан, попал аварий, что дэлать?— Вы повредили автомобиль или (чуть не сказала «испортились») что-то произошло с вами?— И машын, и я!— У вас что застраховано?— Всё!— И жизнь, и авто?— Да!Соединяю с мальчшками из авто отдела. Оказывается, что мужчина въехал в столб, застрахован только по ОСАГО, да ещё и в другой компании. А нам он позвонил, потому что «ваш телефон на рекламе увидел».', 'published': 20091014, 'likes': 1070, 'tags': ['insurers'], 'url': 'http://zadolba.li/story/55'}}]}}\n",
      "{'took': 6, 'timed_out': False, '_shards': {'total': 5, 'successful': 5, 'skipped': 0, 'failed': 0}, 'hits': {'total': 3, 'max_score': 3.21028, 'hits': [{'_index': 'zadolbali', '_type': 'story', '_id': '5', '_score': 3.21028, '_source': {'id': 5, 'title': 'Атака одушевленного обьекта', 'text': 'Работаю в страховой компании. Любимые клиенты пишут:«На крышу мерседеса упала с балкона кошка. Cуществуют риски \"падение предмета\" и \"атака животного\". Что писать в страховом акте?»Претензионщики мрачно шутят, что если бы она упала и померла в полете — то было бы проще. Записали бы предметом.', 'published': 20090915, 'likes': 0, 'tags': ['insurers', 'mail'], 'url': 'http://zadolba.li/story/5'}}, {'_index': 'zadolbali', '_type': 'story', '_id': '55', '_score': 1.6297764, '_source': {'id': 55, 'title': 'Кошмары и ужасы страхования', 'text': 'Работаю в страховой компании. Каждый день происходят совершенно неземные диалоги с клиентами:— Девушка, я вам вчера звонил, соедените меня с тем же самым.— С кем вы разговаривали?— С парнем.— Как его зовут?— Не знаю.— Про что вы у него узнавали?— Про страхование!— Страхование чего? (злость начинает подступать к горлу)— Машины!— Соединяю с отделом КАСКО. (через минуту) У них телефон занят. Что передать?— Передайте, что я звонил! *вешает трубку*— Девушка!— Да, я вас слушаю.— А это точно %компания%?— Да, это %компания%.— Вы меня не обманываете?— Нет! Конечно же, вы попали именно в %компанию%. Чем вам помочь?— Да? А, ну ладно, спасибо. *короткие гудки*— Дэвущка! Это страховка?— %Компания%, я вас слушаю.— Дэнэг нет, ехал из Казан, попал аварий, что дэлать?— Вы повредили автомобиль или (чуть не сказала «испортились») что-то произошло с вами?— И машын, и я!— У вас что застраховано?— Всё!— И жизнь, и авто?— Да!Соединяю с мальчшками из авто отдела. Оказывается, что мужчина въехал в столб, застрахован только по ОСАГО, да ещё и в другой компании. А нам он позвонил, потому что «ваш телефон на рекламе увидел».', 'published': 20091014, 'likes': 1070, 'tags': ['insurers'], 'url': 'http://zadolba.li/story/55'}}, {'_index': 'zadolbali', '_type': 'story', '_id': '85', '_score': 1.6297764, '_source': {'id': 85, 'title': 'Готовил сани летом', 'text': 'Работаю в страховой компании. В правилах обслуживания чётко, русским по белому написано, что заявить о страховом случае в компанию необходимо в течении трёх рабочих дней. Когда я заключаю договор с клиентами, я заостряю внимание на этом моменте и даю визитку — если что-то случится, а вы не будете знать порядок действий, звоните.Ага-ага. Вчера звонит возмущенный мужчина: «Ах, такие сякие, вы мне отказали в выплате!» Начинаю разбираться, в чём суть дела, звоню коллегам, занимающимися выплатами и наконец понимаю причину отказа.Заявлении о происшествии, написанное 15 августа: «Я счищал оледенелый снег с капота своего автомобиля вместе с лакокрасочным покрытием...»Звоню ему и спрашиваю: «А где же, друг мой любезный, ты в середине августа оледенелый снег нашел?» Он только смеётся: «Ты чё, не понимаешь что ли, это было в феврале! Какой ещё снег в августе?»Эх, как же вы мне все дороги...', 'published': 20091016, 'likes': 1188, 'tags': ['insurers'], 'url': 'http://zadolba.li/story/85'}}]}}\n",
      "None\n"
     ]
    }
   ],
   "source": [
    "print(run_hard_tests(my_index))"
   ]
  },
  {
   "cell_type": "markdown",
   "metadata": {},
   "source": [
    "## Теперь работает. :)"
   ]
  },
  {
   "cell_type": "markdown",
   "metadata": {},
   "source": [
    "# Analytics"
   ]
  },
  {
   "cell_type": "code",
   "execution_count": 63,
   "metadata": {},
   "outputs": [
    {
     "name": "stdout",
     "output_type": "stream",
     "text": [
      "{\n",
      "  \"error\" : {\n",
      "    \"root_cause\" : [\n",
      "      {\n",
      "        \"type\" : \"illegal_argument_exception\",\n",
      "        \"reason\" : \"Fielddata is disabled on text fields by default. Set fielddata=true on [text] in order to load fielddata in memory by uninverting the inverted index. Note that this can however use significant memory. Alternatively use a keyword field instead.\"\n",
      "      }\n",
      "    ],\n",
      "    \"type\" : \"search_phase_execution_exception\",\n",
      "    \"reason\" : \"all shards failed\",\n",
      "    \"phase\" : \"query\",\n",
      "    \"grouped\" : true,\n",
      "    \"failed_shards\" : [\n",
      "      {\n",
      "        \"shard\" : 0,\n",
      "        \"index\" : \"zadolbali\",\n",
      "        \"node\" : \"-L9u61j5TzaMtOXdBGq9jA\",\n",
      "        \"reason\" : {\n",
      "          \"type\" : \"illegal_argument_exception\",\n",
      "          \"reason\" : \"Fielddata is disabled on text fields by default. Set fielddata=true on [text] in order to load fielddata in memory by uninverting the inverted index. Note that this can however use significant memory. Alternatively use a keyword field instead.\"\n",
      "        }\n",
      "      }\n",
      "    ]\n",
      "  },\n",
      "  \"status\" : 400\n",
      "}\n",
      "\n"
     ]
    }
   ],
   "source": [
    "print(requests.post('http://localhost:9200/zadolbali/story/_search?pretty', data=json.dumps({\n",
    "    \"size\": 0,\n",
    "    \"aggs\" : {\n",
    "        \"genres\" : {\n",
    "            \"terms\" : { \n",
    "                \"field\" : \"text\",\n",
    "                \"size\" : 100 \n",
    "            }\n",
    "        }\n",
    "    }\n",
    "})).text)"
   ]
  },
  {
   "cell_type": "code",
   "execution_count": 78,
   "metadata": {},
   "outputs": [],
   "source": [
    "all_text = ' '.join(story.text for story in stories)\n",
    "# print(all_text)\n"
   ]
  },
  {
   "cell_type": "code",
   "execution_count": 76,
   "metadata": {
    "scrolled": true
   },
   "outputs": [
    {
     "name": "stdout",
     "output_type": "stream",
     "text": [
      "10000 loops, best of 3: 84 µs per loop\n"
     ]
    }
   ],
   "source": [
    "%%timeit \n",
    "re.findall('кошка', all_text)"
   ]
  },
  {
   "cell_type": "code",
   "execution_count": 77,
   "metadata": {},
   "outputs": [
    {
     "name": "stdout",
     "output_type": "stream",
     "text": [
      "1000 loops, best of 3: 1.29 ms per loop\n"
     ]
    }
   ],
   "source": [
    "%%timeit\n",
    "es.search(index='zadolbali', doc_type='story', body={'query': {'match': {'text': 'кошка'}}})"
   ]
  },
  {
   "cell_type": "code",
   "execution_count": 81,
   "metadata": {
    "scrolled": true
   },
   "outputs": [
    {
     "name": "stdout",
     "output_type": "stream",
     "text": [
      "10 loops, best of 3: 60.1 ms per loop\n"
     ]
    }
   ],
   "source": [
    "%%timeit \n",
    "re.findall('кошка', all_text)"
   ]
  },
  {
   "cell_type": "code",
   "execution_count": 85,
   "metadata": {},
   "outputs": [
    {
     "name": "stdout",
     "output_type": "stream",
     "text": [
      "100 loops, best of 3: 1.91 ms per loop\n"
     ]
    }
   ],
   "source": [
    "%%timeit\n",
    "es.search(index='zadolbali', doc_type='story', body={'query': {'match': {'text': 'кошка'}}})"
   ]
  },
  {
   "cell_type": "code",
   "execution_count": 86,
   "metadata": {
    "scrolled": true
   },
   "outputs": [
    {
     "name": "stdout",
     "output_type": "stream",
     "text": [
      "10 loops, best of 3: 96.2 ms per loop\n"
     ]
    }
   ],
   "source": [
    "%%timeit \n",
    "re.findall('я', all_text)"
   ]
  },
  {
   "cell_type": "code",
   "execution_count": 87,
   "metadata": {
    "scrolled": true
   },
   "outputs": [
    {
     "name": "stdout",
     "output_type": "stream",
     "text": [
      "1000 loops, best of 3: 1.06 ms per loop\n"
     ]
    }
   ],
   "source": [
    "%%timeit\n",
    "es.search(index='zadolbali', doc_type='story', body={'query': {'match': {'text': 'я'}}})"
   ]
  },
  {
   "cell_type": "code",
   "execution_count": 86,
   "metadata": {
    "scrolled": true
   },
   "outputs": [
    {
     "name": "stdout",
     "output_type": "stream",
     "text": [
      "10 loops, best of 3: 96.2 ms per loop\n"
     ]
    }
   ],
   "source": [
    "%%timeit \n",
    "re.findall('страховая', all_text)"
   ]
  },
  {
   "cell_type": "code",
   "execution_count": 87,
   "metadata": {
    "scrolled": true
   },
   "outputs": [
    {
     "name": "stdout",
     "output_type": "stream",
     "text": [
      "1000 loops, best of 3: 1.06 ms per loop\n"
     ]
    }
   ],
   "source": [
    "%%timeit\n",
    "es.search(index='zadolbali', doc_type='story', body={'query': {'match': {'text': 'я'}}})"
   ]
  },
  {
   "cell_type": "code",
   "execution_count": null,
   "metadata": {},
   "outputs": [],
   "source": [
    "%%timeit \n",
    "re.findall('душистый', all_text)"
   ]
  },
  {
   "cell_type": "code",
   "execution_count": null,
   "metadata": {
    "collapsed": true
   },
   "outputs": [],
   "source": []
  }
 ],
 "metadata": {
  "kernelspec": {
   "display_name": "Python 3",
   "language": "python",
   "name": "python3"
  },
  "language_info": {
   "codemirror_mode": {
    "name": "ipython",
    "version": 3
   },
   "file_extension": ".py",
   "mimetype": "text/x-python",
   "name": "python",
   "nbconvert_exporter": "python",
   "pygments_lexer": "ipython3",
   "version": "3.6.2"
  }
 },
 "nbformat": 4,
 "nbformat_minor": 2
}
