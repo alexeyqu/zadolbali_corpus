{
 "cells": [
  {
   "cell_type": "code",
   "execution_count": 22,
   "metadata": {
    "collapsed": true
   },
   "outputs": [],
   "source": [
    "from sqlalchemy import create_engine, MetaData, Table\n",
    "from sqlalchemy.orm import mapper, sessionmaker\n",
    "import requests\n",
    "import json\n",
    "from elasticsearch import Elasticsearch\n",
    "\n",
    "my_index = 'zadolbali'\n",
    "\n",
    "es = Elasticsearch([{'host': 'localhost', 'port': 9200}])\n",
    "\n",
    "def get_es_stats():\n",
    "    print(requests.get('http://localhost:9200/_cat/health?v').text)\n",
    "    print(requests.get('http://localhost:9200/_cat/nodes?v').text)\n",
    "    print(requests.get('http://localhost:9200/_cat/shards?v').text)\n",
    "    print(requests.get('http://localhost:9200/_cat/indices?v').text)\n"
   ]
  },
  {
   "cell_type": "code",
   "execution_count": 23,
   "metadata": {
    "collapsed": true
   },
   "outputs": [],
   "source": [
    "def create_index(index, settings):\n",
    "    return requests.put('http://localhost:9200/zadolbali', data=json.dumps(settings)).text\n",
    "\n",
    "def delete_index(index):\n",
    "    return requests.delete('http://localhost:9200/{0}?pretty'.format(index)).text\n",
    "\n",
    "def setup_index_settings(index, settings):\n",
    "    headers = {'Content-type': 'application/json', 'Accept': 'text/plain'}\n",
    "    return requests.put('http://localhost:9200/zadolbali/_settings?pretty', headers=headers, data=json.dumps(settings)).text\n",
    "\n",
    "def setup_index_mapping(index, settings):\n",
    "    headers = {'Content-type': 'application/json', 'Accept': 'text/plain'}\n",
    "    return requests.put('http://localhost:9200/zadolbali/_mappings/story?pretty', headers=headers, data=json.dumps(settings)).text\n",
    "\n",
    "def get_index_state(index):\n",
    "    print(requests.get('http://localhost:9200/{0}/_settings?pretty'.format(index)).text)\n",
    "    print(requests.get('http://localhost:9200/{0}/_mapping?pretty'.format(index)).text)"
   ]
  },
  {
   "cell_type": "code",
   "execution_count": 24,
   "metadata": {},
   "outputs": [
    {
     "data": {
      "text/plain": [
       "'{\\n  \"acknowledged\" : true\\n}\\n'"
      ]
     },
     "execution_count": 24,
     "metadata": {},
     "output_type": "execute_result"
    }
   ],
   "source": [
    "delete_index(my_index)"
   ]
  },
  {
   "cell_type": "code",
   "execution_count": 25,
   "metadata": {},
   "outputs": [
    {
     "name": "stdout",
     "output_type": "stream",
     "text": [
      "{\"acknowledged\":true}\n"
     ]
    }
   ],
   "source": [
    "create_settings = {\n",
    "    'settings' : {\n",
    "        'index' : {\n",
    "            'number_of_shards' : 5,\n",
    "            'number_of_replicas' : 1\n",
    "        }\n",
    "    }\n",
    "}\n",
    "\n",
    "create_index(my_index, create_settings)\n",
    "\n",
    "print(requests.post('http://localhost:9200/zadolbali/_close').text)"
   ]
  },
  {
   "cell_type": "code",
   "execution_count": 26,
   "metadata": {},
   "outputs": [
    {
     "name": "stdout",
     "output_type": "stream",
     "text": [
      "{\n",
      "  \"acknowledged\" : true\n",
      "}\n",
      "\n"
     ]
    }
   ],
   "source": [
    "# stolen from https://gist.github.com/svartalf/4465752\n",
    "\n",
    "index_settings = {\n",
    "    'analysis': {\n",
    "        'analyzer': {\n",
    "            'ru': {\n",
    "                'type': 'custom',\n",
    "                'tokenizer': 'standard',\n",
    "                'filter': ['lowercase', 'russian_morphology', 'english_morphology', 'ru_stopwords'],\n",
    "            },\n",
    "        },\n",
    "        'filter': {\n",
    "            'ru_stopwords': {\n",
    "                'type': 'stop',\n",
    "                'stopwords': u'а,без,более,бы,был,была,были,было,быть,в,вам,вас,весь,во,вот,все,всего,всех,вы,где,да,даже,для,до,его,ее,если,есть,еще,же,за,здесь,и,из,или,им,их,к,как,ко,когда,кто,ли,либо,мне,может,мы,на,надо,наш,не,него,нее,нет,ни,них,но,ну,о,об,однако,он,она,они,оно,от,очень,по,под,при,с,со,так,также,такой,там,те,тем,то,того,тоже,той,только,том,ты,у,уже,хотя,чего,чей,чем,что,чтобы,чье,чья,эта,эти,это,я,a,an,and,are,as,at,be,but,by,for,if,in,into,is,it,no,not,of,on,or,such,that,the,their,then,there,these,they,this,to,was,will,with',\n",
    "            },\n",
    "            'ru_stemming': {\n",
    "                'type': 'snowball',\n",
    "                'language': 'Russian',\n",
    "            }\n",
    "        },\n",
    "\n",
    "    }\n",
    "}\n",
    "\n",
    "\n",
    "print(setup_index_settings(my_index, index_settings))"
   ]
  },
  {
   "cell_type": "code",
   "execution_count": 31,
   "metadata": {},
   "outputs": [
    {
     "name": "stdout",
     "output_type": "stream",
     "text": [
      "{\"acknowledged\":true}\n",
      "{\n",
      "  \"acknowledged\" : true\n",
      "}\n",
      "\n"
     ]
    }
   ],
   "source": [
    "print(requests.post('http://localhost:9200/zadolbali/_open').text)\n",
    "\n",
    "mapping_settings = {\n",
    "    'properties': {\n",
    "        'id': { 'type': 'integer' },\n",
    "        'title':  { \n",
    "            'type': 'text',\n",
    "            'analyzer': 'ru',\n",
    "            \"fields\": {\n",
    "                \"keyword\": { \n",
    "                  \"type\": \"keyword\"\n",
    "                }\n",
    "            }\n",
    "        },\n",
    "        'text': { \n",
    "            'type': 'text',\n",
    "            'analyzer': 'ru',\n",
    "            \"fields\": {\n",
    "                \"keyword\": { \n",
    "                  \"type\": \"keyword\"\n",
    "                },\n",
    "                \"length\": { \n",
    "                  \"type\": \"token_count\",\n",
    "                  \"analyzer\": \"standard\"\n",
    "                }\n",
    "            }\n",
    "        },\n",
    "        'published': {\n",
    "            'type': 'date',\n",
    "            'format': 'yyyyMMdd'\n",
    "            },\n",
    "        'likes': { 'type': 'integer' },\n",
    "        'tags': { \n",
    "            'type': 'keyword'\n",
    "        },\n",
    "        'url': { 'type': 'text' }\n",
    "    }\n",
    "}\n",
    "\n",
    "print(setup_index_mapping(my_index, mapping_settings))"
   ]
  },
  {
   "cell_type": "code",
   "execution_count": 32,
   "metadata": {},
   "outputs": [
    {
     "name": "stdout",
     "output_type": "stream",
     "text": [
      "2017-11-06 17:35:07,465 INFO sqlalchemy.engine.base.Engine SELECT CAST('test plain returns' AS VARCHAR(60)) AS anon_1\n",
      "2017-11-06 17:35:07,466 INFO sqlalchemy.engine.base.Engine ()\n",
      "2017-11-06 17:35:07,467 INFO sqlalchemy.engine.base.Engine SELECT CAST('test unicode returns' AS VARCHAR(60)) AS anon_1\n",
      "2017-11-06 17:35:07,468 INFO sqlalchemy.engine.base.Engine ()\n",
      "2017-11-06 17:35:07,471 INFO sqlalchemy.engine.base.Engine PRAGMA table_info(\"stories\")\n",
      "2017-11-06 17:35:07,476 INFO sqlalchemy.engine.base.Engine ()\n",
      "2017-11-06 17:35:07,479 INFO sqlalchemy.engine.base.Engine SELECT sql FROM  (SELECT * FROM sqlite_master UNION ALL   SELECT * FROM sqlite_temp_master) WHERE name = 'stories' AND type = 'table'\n",
      "2017-11-06 17:35:07,480 INFO sqlalchemy.engine.base.Engine ()\n",
      "2017-11-06 17:35:07,481 INFO sqlalchemy.engine.base.Engine PRAGMA foreign_key_list(\"stories\")\n",
      "2017-11-06 17:35:07,483 INFO sqlalchemy.engine.base.Engine ()\n",
      "2017-11-06 17:35:07,484 INFO sqlalchemy.engine.base.Engine SELECT sql FROM  (SELECT * FROM sqlite_master UNION ALL   SELECT * FROM sqlite_temp_master) WHERE name = 'stories' AND type = 'table'\n",
      "2017-11-06 17:35:07,485 INFO sqlalchemy.engine.base.Engine ()\n",
      "2017-11-06 17:35:07,487 INFO sqlalchemy.engine.base.Engine PRAGMA index_list(\"stories\")\n",
      "2017-11-06 17:35:07,488 INFO sqlalchemy.engine.base.Engine ()\n",
      "2017-11-06 17:35:07,489 INFO sqlalchemy.engine.base.Engine PRAGMA index_list(\"stories\")\n",
      "2017-11-06 17:35:07,490 INFO sqlalchemy.engine.base.Engine ()\n",
      "2017-11-06 17:35:07,492 INFO sqlalchemy.engine.base.Engine SELECT sql FROM  (SELECT * FROM sqlite_master UNION ALL   SELECT * FROM sqlite_temp_master) WHERE name = 'stories' AND type = 'table'\n",
      "2017-11-06 17:35:07,493 INFO sqlalchemy.engine.base.Engine ()\n"
     ]
    }
   ],
   "source": [
    "class Story(object):\n",
    "    pass\n",
    " \n",
    "def loadSession():\n",
    "    dbPath = '../corpus/stories.sqlite'\n",
    "    engine = create_engine('sqlite:///%s' % dbPath, echo=True)\n",
    " \n",
    "    bookmarks = Table('stories', MetaData(engine), autoload=True)\n",
    "    mapper(Story, bookmarks)\n",
    " \n",
    "    Session = sessionmaker(bind=engine)\n",
    "    session = Session()\n",
    "    return session\n",
    "\n",
    "session = loadSession()"
   ]
  },
  {
   "cell_type": "code",
   "execution_count": 33,
   "metadata": {},
   "outputs": [
    {
     "name": "stdout",
     "output_type": "stream",
     "text": [
      "2017-11-06 17:35:08,681 INFO sqlalchemy.engine.base.Engine BEGIN (implicit)\n",
      "2017-11-06 17:35:08,685 INFO sqlalchemy.engine.base.Engine SELECT stories.id AS stories_id, stories.title AS stories_title, stories.published AS stories_published, stories.tags AS stories_tags, stories.text AS stories_text, stories.likes AS stories_likes, stories.hrefs AS stories_hrefs, stories.url AS stories_url \n",
      "FROM stories\n",
      "2017-11-06 17:35:08,688 INFO sqlalchemy.engine.base.Engine ()\n",
      "23558\n",
      "['__class__', '__delattr__', '__dict__', '__dir__', '__doc__', '__eq__', '__format__', '__ge__', '__getattribute__', '__gt__', '__hash__', '__init__', '__init_subclass__', '__le__', '__lt__', '__module__', '__ne__', '__new__', '__reduce__', '__reduce_ex__', '__repr__', '__setattr__', '__sizeof__', '__str__', '__subclasshook__', '__weakref__', '_sa_class_manager', '_sa_instance_state', 'hrefs', 'id', 'likes', 'published', 'tags', 'text', 'title', 'url']\n"
     ]
    }
   ],
   "source": [
    "stories = session.query(Story).all()\n",
    "print(len(stories))\n",
    "print(dir(stories[0]))"
   ]
  },
  {
   "cell_type": "code",
   "execution_count": 36,
   "metadata": {},
   "outputs": [],
   "source": [
    "# 'hrefs', 'id', 'likes', 'published', 'tags', 'text', 'title', 'url'\n",
    "def index_data(index):\n",
    "#     for story in stories[:100]:\n",
    "    for story in stories:\n",
    "        body = {\n",
    "            'id': story.id,\n",
    "            'title': story.title,\n",
    "            'text': story.text,\n",
    "            'published': story.published,\n",
    "            'likes': story.likes,\n",
    "            'tags': story.tags.split(' '),\n",
    "            'url': story.url\n",
    "        }\n",
    "        es.index(index=index, doc_type='story', id=story.id, body=body)\n"
   ]
  },
  {
   "cell_type": "code",
   "execution_count": 37,
   "metadata": {},
   "outputs": [
    {
     "name": "stdout",
     "output_type": "stream",
     "text": [
      "{\n",
      "  \"zadolbali\" : {\n",
      "    \"settings\" : {\n",
      "      \"index\" : {\n",
      "        \"number_of_shards\" : \"5\",\n",
      "        \"provided_name\" : \"zadolbali\",\n",
      "        \"creation_date\" : \"1509977827892\",\n",
      "        \"analysis\" : {\n",
      "          \"filter\" : {\n",
      "            \"ru_stemming\" : {\n",
      "              \"type\" : \"snowball\",\n",
      "              \"language\" : \"Russian\"\n",
      "            },\n",
      "            \"ru_stopwords\" : {\n",
      "              \"type\" : \"stop\",\n",
      "              \"stopwords\" : \"а,без,более,бы,был,была,были,было,быть,в,вам,вас,весь,во,вот,все,всего,всех,вы,где,да,даже,для,до,его,ее,если,есть,еще,же,за,здесь,и,из,или,им,их,к,как,ко,когда,кто,ли,либо,мне,может,мы,на,надо,наш,не,него,нее,нет,ни,них,но,ну,о,об,однако,он,она,они,оно,от,очень,по,под,при,с,со,так,также,такой,там,те,тем,то,того,тоже,той,только,том,ты,у,уже,хотя,чего,чей,чем,что,чтобы,чье,чья,эта,эти,это,я,a,an,and,are,as,at,be,but,by,for,if,in,into,is,it,no,not,of,on,or,such,that,the,their,then,there,these,they,this,to,was,will,with\"\n",
      "            }\n",
      "          },\n",
      "          \"analyzer\" : {\n",
      "            \"ru\" : {\n",
      "              \"filter\" : [\n",
      "                \"lowercase\",\n",
      "                \"russian_morphology\",\n",
      "                \"english_morphology\",\n",
      "                \"ru_stopwords\"\n",
      "              ],\n",
      "              \"type\" : \"custom\",\n",
      "              \"tokenizer\" : \"standard\"\n",
      "            }\n",
      "          }\n",
      "        },\n",
      "        \"number_of_replicas\" : \"1\",\n",
      "        \"uuid\" : \"dcAcE0VIRpuaQPloG-fTpw\",\n",
      "        \"version\" : {\n",
      "          \"created\" : \"5060399\"\n",
      "        }\n",
      "      }\n",
      "    }\n",
      "  }\n",
      "}\n",
      "\n",
      "{\n",
      "  \"zadolbali\" : {\n",
      "    \"mappings\" : {\n",
      "      \"story\" : {\n",
      "        \"properties\" : {\n",
      "          \"id\" : {\n",
      "            \"type\" : \"integer\"\n",
      "          },\n",
      "          \"likes\" : {\n",
      "            \"type\" : \"integer\"\n",
      "          },\n",
      "          \"published\" : {\n",
      "            \"type\" : \"date\",\n",
      "            \"format\" : \"yyyyMMdd\"\n",
      "          },\n",
      "          \"tags\" : {\n",
      "            \"type\" : \"keyword\"\n",
      "          },\n",
      "          \"text\" : {\n",
      "            \"type\" : \"text\",\n",
      "            \"fields\" : {\n",
      "              \"keyword\" : {\n",
      "                \"type\" : \"keyword\"\n",
      "              },\n",
      "              \"length\" : {\n",
      "                \"type\" : \"token_count\",\n",
      "                \"analyzer\" : \"standard\"\n",
      "              }\n",
      "            },\n",
      "            \"analyzer\" : \"ru\"\n",
      "          },\n",
      "          \"title\" : {\n",
      "            \"type\" : \"text\",\n",
      "            \"fields\" : {\n",
      "              \"keyword\" : {\n",
      "                \"type\" : \"keyword\"\n",
      "              }\n",
      "            },\n",
      "            \"analyzer\" : \"ru\"\n",
      "          },\n",
      "          \"url\" : {\n",
      "            \"type\" : \"text\"\n",
      "          }\n",
      "        }\n",
      "      }\n",
      "    }\n",
      "  }\n",
      "}\n",
      "\n"
     ]
    }
   ],
   "source": [
    "index_data(my_index)\n",
    "get_index_state(my_index)"
   ]
  },
  {
   "cell_type": "code",
   "execution_count": null,
   "metadata": {
    "collapsed": true
   },
   "outputs": [],
   "source": []
  }
 ],
 "metadata": {
  "kernelspec": {
   "display_name": "Python 3",
   "language": "python",
   "name": "python3"
  },
  "language_info": {
   "codemirror_mode": {
    "name": "ipython",
    "version": 3
   },
   "file_extension": ".py",
   "mimetype": "text/x-python",
   "name": "python",
   "nbconvert_exporter": "python",
   "pygments_lexer": "ipython3",
   "version": "3.6.2"
  }
 },
 "nbformat": 4,
 "nbformat_minor": 2
}
