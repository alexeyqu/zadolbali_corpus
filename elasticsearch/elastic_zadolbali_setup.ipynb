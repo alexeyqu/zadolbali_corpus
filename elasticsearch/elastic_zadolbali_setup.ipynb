{
 "cells": [
  {
   "cell_type": "markdown",
   "metadata": {},
   "source": [
    "# Basic setup"
   ]
  },
  {
   "cell_type": "code",
   "execution_count": 1,
   "metadata": {
    "collapsed": true
   },
   "outputs": [],
   "source": [
    "from sqlalchemy import create_engine, MetaData, Table\n",
    "from sqlalchemy.orm import mapper, sessionmaker\n",
    "import requests\n",
    "import json\n",
    "from elasticsearch import Elasticsearch\n"
   ]
  },
  {
   "cell_type": "code",
   "execution_count": 2,
   "metadata": {},
   "outputs": [
    {
     "name": "stdout",
     "output_type": "stream",
     "text": [
      "b'{\\n  \"name\" : \"-L9u61j\",\\n  \"cluster_name\" : \"elasticsearch\",\\n  \"cluster_uuid\" : \"7yPgKxlWRwmSpPqu9E9w2A\",\\n  \"version\" : {\\n    \"number\" : \"5.6.3\",\\n    \"build_hash\" : \"1a2f265\",\\n    \"build_date\" : \"2017-10-06T20:33:39.012Z\",\\n    \"build_snapshot\" : false,\\n    \"lucene_version\" : \"6.6.1\"\\n  },\\n  \"tagline\" : \"You Know, for Search\"\\n}\\n'\n"
     ]
    }
   ],
   "source": [
    "res = requests.get('http://localhost:9200')\n",
    "print(res.content)\n",
    "es = Elasticsearch([{'host': 'localhost', 'port': 9200}])"
   ]
  },
  {
   "cell_type": "code",
   "execution_count": 45,
   "metadata": {},
   "outputs": [
    {
     "name": "stdout",
     "output_type": "stream",
     "text": [
      "epoch      timestamp cluster       status node.total node.data shards pri relo init unassign pending_tasks max_task_wait_time active_shards_percent\n",
      "1509882574 14:49:34  elasticsearch yellow          1         1      6   6    0    0        6             0                  -                 50.0%\n",
      "\n",
      "ip        heap.percent ram.percent cpu load_1m load_5m load_15m node.role master name\n",
      "127.0.0.1            9          67  11    0.74    0.76     0.72 mdi       *      -L9u61j\n",
      "\n",
      "index     shard prirep state      docs  store ip        node\n",
      "zadolbali 2     p      STARTED       0   162b 127.0.0.1 -L9u61j\n",
      "zadolbali 2     r      UNASSIGNED                       \n",
      "zadolbali 4     p      STARTED       0   162b 127.0.0.1 -L9u61j\n",
      "zadolbali 4     r      UNASSIGNED                       \n",
      "zadolbali 1     p      STARTED       0   162b 127.0.0.1 -L9u61j\n",
      "zadolbali 1     r      UNASSIGNED                       \n",
      "zadolbali 3     p      STARTED       0   162b 127.0.0.1 -L9u61j\n",
      "zadolbali 3     r      UNASSIGNED                       \n",
      "zadolbali 0     p      STARTED       0   162b 127.0.0.1 -L9u61j\n",
      "zadolbali 0     r      UNASSIGNED                       \n",
      ".kibana   0     p      STARTED       2 10.8kb 127.0.0.1 -L9u61j\n",
      ".kibana   0     r      UNASSIGNED                       \n",
      "\n",
      "health status index     uuid                   pri rep docs.count docs.deleted store.size pri.store.size\n",
      "yellow open   zadolbali bPio5U0rRG6WPetRLzMvnQ   5   1          0            0       810b           810b\n",
      "yellow open   .kibana   L5hEXnBERGe6czr2OJchfg   1   1          2            1     10.8kb         10.8kb\n",
      "\n"
     ]
    }
   ],
   "source": [
    "print(requests.get('http://localhost:9200/_cat/health?v').text)\n",
    "print(requests.get('http://localhost:9200/_cat/nodes?v').text)\n",
    "print(requests.get('http://localhost:9200/_cat/shards?v').text)\n",
    "print(requests.get('http://localhost:9200/_cat/indices?v').text)"
   ]
  },
  {
   "cell_type": "markdown",
   "metadata": {},
   "source": [
    "# Delete zadolbali index"
   ]
  },
  {
   "cell_type": "code",
   "execution_count": 41,
   "metadata": {},
   "outputs": [
    {
     "name": "stdout",
     "output_type": "stream",
     "text": [
      "{\"acknowledged\":true}\n"
     ]
    }
   ],
   "source": [
    "r = requests.delete('http://localhost:9200/zadolbali') \n",
    "print(r.text)"
   ]
  },
  {
   "cell_type": "code",
   "execution_count": 42,
   "metadata": {},
   "outputs": [
    {
     "name": "stdout",
     "output_type": "stream",
     "text": [
      "yellow open .kibana L5hEXnBERGe6czr2OJchfg 1 1 2 1 10.8kb 10.8kb\n",
      "\n"
     ]
    }
   ],
   "source": [
    "r = requests.get('http://localhost:9200/_cat/indices')\n",
    "print(r.text)"
   ]
  },
  {
   "cell_type": "markdown",
   "metadata": {},
   "source": [
    "# Create index"
   ]
  },
  {
   "cell_type": "code",
   "execution_count": 43,
   "metadata": {},
   "outputs": [
    {
     "name": "stdout",
     "output_type": "stream",
     "text": [
      "{\"acknowledged\":true,\"shards_acknowledged\":true,\"index\":\"zadolbali\"}\n"
     ]
    }
   ],
   "source": [
    "headers = {'Content-type': 'application/json', 'Accept': 'text/plain'}\n",
    "\n",
    "r = requests.put('http://localhost:9200/zadolbali', headers=headers, data=json.dumps({\n",
    "    \"mappings\": {\n",
    "        \"story\": {\n",
    "            \"properties\": {\n",
    "                \"id\": { \"type\": \"integer\" },\n",
    "                \"title\":  { \"type\": \"text\" },\n",
    "                \"text\": { \"type\": \"text\" },\n",
    "                \"published\": {\n",
    "                    \"type\": \"date\",\n",
    "                    \"format\": \"yyyyMMdd\"\n",
    "                    },\n",
    "                \"likes\": { \"type\": \"integer\" },\n",
    "                \"tags\": { \"type\": \"text\" },\n",
    "                \"url\": { \"type\": \"text\" }\n",
    "            }\n",
    "        }\n",
    "    }\n",
    "}))\n",
    "print(r.text)"
   ]
  },
  {
   "cell_type": "code",
   "execution_count": 44,
   "metadata": {
    "scrolled": true
   },
   "outputs": [
    {
     "name": "stdout",
     "output_type": "stream",
     "text": [
      "{\"zadolbali\":{\"mappings\":{\"story\":{\"properties\":{\"id\":{\"type\":\"integer\"},\"likes\":{\"type\":\"integer\"},\"published\":{\"type\":\"date\",\"format\":\"yyyyMMdd\"},\"tags\":{\"type\":\"text\"},\"text\":{\"type\":\"text\"},\"title\":{\"type\":\"text\"},\"url\":{\"type\":\"text\"}}}}}}\n"
     ]
    }
   ],
   "source": [
    "print(requests.get('http://localhost:9200/zadolbali/_mapping').text)"
   ]
  },
  {
   "cell_type": "markdown",
   "metadata": {},
   "source": [
    "# Get data"
   ]
  },
  {
   "cell_type": "code",
   "execution_count": 47,
   "metadata": {},
   "outputs": [
    {
     "name": "stdout",
     "output_type": "stream",
     "text": [
      "2017-11-05 14:51:02,991 INFO sqlalchemy.engine.base.Engine SELECT CAST('test plain returns' AS VARCHAR(60)) AS anon_1\n",
      "2017-11-05 14:51:02,992 INFO sqlalchemy.engine.base.Engine ()\n",
      "2017-11-05 14:51:02,993 INFO sqlalchemy.engine.base.Engine SELECT CAST('test unicode returns' AS VARCHAR(60)) AS anon_1\n",
      "2017-11-05 14:51:02,994 INFO sqlalchemy.engine.base.Engine ()\n",
      "2017-11-05 14:51:02,996 INFO sqlalchemy.engine.base.Engine PRAGMA table_info(\"stories\")\n",
      "2017-11-05 14:51:02,997 INFO sqlalchemy.engine.base.Engine ()\n",
      "2017-11-05 14:51:03,000 INFO sqlalchemy.engine.base.Engine SELECT sql FROM  (SELECT * FROM sqlite_master UNION ALL   SELECT * FROM sqlite_temp_master) WHERE name = 'stories' AND type = 'table'\n",
      "2017-11-05 14:51:03,001 INFO sqlalchemy.engine.base.Engine ()\n",
      "2017-11-05 14:51:03,004 INFO sqlalchemy.engine.base.Engine PRAGMA foreign_key_list(\"stories\")\n",
      "2017-11-05 14:51:03,005 INFO sqlalchemy.engine.base.Engine ()\n",
      "2017-11-05 14:51:03,007 INFO sqlalchemy.engine.base.Engine SELECT sql FROM  (SELECT * FROM sqlite_master UNION ALL   SELECT * FROM sqlite_temp_master) WHERE name = 'stories' AND type = 'table'\n",
      "2017-11-05 14:51:03,008 INFO sqlalchemy.engine.base.Engine ()\n",
      "2017-11-05 14:51:03,013 INFO sqlalchemy.engine.base.Engine PRAGMA index_list(\"stories\")\n",
      "2017-11-05 14:51:03,015 INFO sqlalchemy.engine.base.Engine ()\n",
      "2017-11-05 14:51:03,017 INFO sqlalchemy.engine.base.Engine PRAGMA index_list(\"stories\")\n",
      "2017-11-05 14:51:03,018 INFO sqlalchemy.engine.base.Engine ()\n",
      "2017-11-05 14:51:03,020 INFO sqlalchemy.engine.base.Engine SELECT sql FROM  (SELECT * FROM sqlite_master UNION ALL   SELECT * FROM sqlite_temp_master) WHERE name = 'stories' AND type = 'table'\n",
      "2017-11-05 14:51:03,021 INFO sqlalchemy.engine.base.Engine ()\n"
     ]
    }
   ],
   "source": [
    "class Story(object):\n",
    "    pass\n",
    " \n",
    "def loadSession():\n",
    "    dbPath = '../corpus/stories.sqlite'\n",
    "    engine = create_engine('sqlite:///%s' % dbPath, echo=True)\n",
    " \n",
    "    bookmarks = Table('stories', MetaData(engine), autoload=True)\n",
    "    mapper(Story, bookmarks)\n",
    " \n",
    "    Session = sessionmaker(bind=engine)\n",
    "    session = Session()\n",
    "    return session\n",
    "\n",
    "session = loadSession()"
   ]
  },
  {
   "cell_type": "code",
   "execution_count": 48,
   "metadata": {},
   "outputs": [
    {
     "name": "stdout",
     "output_type": "stream",
     "text": [
      "2017-11-05 14:51:04,608 INFO sqlalchemy.engine.base.Engine BEGIN (implicit)\n",
      "2017-11-05 14:51:04,612 INFO sqlalchemy.engine.base.Engine SELECT stories.id AS stories_id, stories.title AS stories_title, stories.published AS stories_published, stories.tags AS stories_tags, stories.text AS stories_text, stories.likes AS stories_likes, stories.hrefs AS stories_hrefs, stories.url AS stories_url \n",
      "FROM stories\n",
      "2017-11-05 14:51:04,616 INFO sqlalchemy.engine.base.Engine ()\n",
      "23558\n",
      "['__class__', '__delattr__', '__dict__', '__dir__', '__doc__', '__eq__', '__format__', '__ge__', '__getattribute__', '__gt__', '__hash__', '__init__', '__init_subclass__', '__le__', '__lt__', '__module__', '__ne__', '__new__', '__reduce__', '__reduce_ex__', '__repr__', '__setattr__', '__sizeof__', '__str__', '__subclasshook__', '__weakref__', '_sa_class_manager', '_sa_instance_state', 'hrefs', 'id', 'likes', 'published', 'tags', 'text', 'title', 'url']\n"
     ]
    }
   ],
   "source": [
    "stories = session.query(Story).all()\n",
    "print(len(stories))\n",
    "print(dir(stories[0]))"
   ]
  },
  {
   "cell_type": "markdown",
   "metadata": {},
   "source": [
    "# Index it!"
   ]
  },
  {
   "cell_type": "code",
   "execution_count": 49,
   "metadata": {
    "collapsed": true
   },
   "outputs": [],
   "source": [
    "# 'hrefs', 'id', 'likes', 'published', 'tags', 'text', 'title', 'url'\n",
    "for story in stories[:100]:\n",
    "    body = {\n",
    "        \"id\": story.id,\n",
    "        \"title\": story.title,\n",
    "        \"text\": story.text,\n",
    "        \"published\": story.published,\n",
    "        \"likes\": story.likes,\n",
    "        \"tags\": story.tags,\n",
    "        \"url\": story.url\n",
    "    }\n",
    "    es.index(index='zadolbali', doc_type='stories', id=story.id, body=body)"
   ]
  },
  {
   "cell_type": "code",
   "execution_count": 50,
   "metadata": {},
   "outputs": [
    {
     "data": {
      "text/plain": [
       "{'_id': '5',\n",
       " '_index': 'zadolbali',\n",
       " '_source': {'id': 5,\n",
       "  'likes': 0,\n",
       "  'published': 20090915,\n",
       "  'tags': 'insurers mail',\n",
       "  'text': 'Работаю в страховой компании. Любимые клиенты пишут:«На крышу мерседеса упала с балкона кошка. Cуществуют риски \"падение предмета\" и \"атака животного\". Что писать в страховом акте?»Претензионщики мрачно шутят, что если бы она упала и померла в полете — то было бы проще. Записали бы предметом.',\n",
       "  'title': 'Атака одушевленного обьекта',\n",
       "  'url': 'http://zadolba.li/story/5'},\n",
       " '_type': 'stories',\n",
       " '_version': 1,\n",
       " 'found': True}"
      ]
     },
     "execution_count": 50,
     "metadata": {},
     "output_type": "execute_result"
    }
   ],
   "source": [
    "es.get(index='zadolbali', id=5)"
   ]
  },
  {
   "cell_type": "markdown",
   "metadata": {},
   "source": [
    "# Analytics"
   ]
  },
  {
   "cell_type": "code",
   "execution_count": null,
   "metadata": {
    "collapsed": true
   },
   "outputs": [],
   "source": []
  }
 ],
 "metadata": {
  "kernelspec": {
   "display_name": "Python 3",
   "language": "python",
   "name": "python3"
  },
  "language_info": {
   "codemirror_mode": {
    "name": "ipython",
    "version": 3
   },
   "file_extension": ".py",
   "mimetype": "text/x-python",
   "name": "python",
   "nbconvert_exporter": "python",
   "pygments_lexer": "ipython3",
   "version": "3.6.2"
  }
 },
 "nbformat": 4,
 "nbformat_minor": 2
}
