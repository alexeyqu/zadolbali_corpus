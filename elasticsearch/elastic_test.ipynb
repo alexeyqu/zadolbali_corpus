{
 "cells": [
  {
   "cell_type": "code",
   "execution_count": 10,
   "metadata": {
    "collapsed": true
   },
   "outputs": [],
   "source": [
    "import requests\n",
    "import json\n",
    "from elasticsearch import Elasticsearch\n",
    "\n",
    "headers = {'Content-Type': 'application/json'}\n"
   ]
  },
  {
   "cell_type": "code",
   "execution_count": 34,
   "metadata": {},
   "outputs": [
    {
     "name": "stdout",
     "output_type": "stream",
     "text": [
      "epoch      timestamp cluster       status node.total node.data shards pri relo init unassign pending_tasks max_task_wait_time active_shards_percent\n",
      "1509882436 14:47:16  elasticsearch yellow          1         1     16  16    0    0       16             0                  -                 50.0%\n",
      "\n"
     ]
    }
   ],
   "source": [
    "print(requests.get('http://localhost:9200/_cat/health?v').text)"
   ]
  },
  {
   "cell_type": "code",
   "execution_count": 4,
   "metadata": {},
   "outputs": [
    {
     "name": "stdout",
     "output_type": "stream",
     "text": [
      "ip        heap.percent ram.percent cpu load_1m load_5m load_15m node.role master name\n",
      "127.0.0.1           17          63  10    0.70    0.55     0.73 mdi       *      -L9u61j\n",
      "\n"
     ]
    }
   ],
   "source": [
    "print(requests.get('http://localhost:9200/_cat/nodes?v').text)"
   ]
  },
  {
   "cell_type": "code",
   "execution_count": 35,
   "metadata": {},
   "outputs": [
    {
     "name": "stdout",
     "output_type": "stream",
     "text": [
      "health status index     uuid                   pri rep docs.count docs.deleted store.size pri.store.size\n",
      "yellow open   zadolbali W7y-y1w-Q_S-7oMdE0_FSA   5   1          0            0       810b           810b\n",
      "yellow open   customer  qxf6xU2sQ6263aPjs6-04A   5   1          2            0      7.4kb          7.4kb\n",
      "yellow open   bank      _9xGLRodRhKMl2zsDd1JLQ   5   1       1000            0    640.8kb        640.8kb\n",
      "yellow open   .kibana   L5hEXnBERGe6czr2OJchfg   1   1          2            1     10.8kb         10.8kb\n",
      "\n"
     ]
    }
   ],
   "source": [
    "print(requests.get('http://localhost:9200/_cat/indices?v').text)"
   ]
  },
  {
   "cell_type": "code",
   "execution_count": 9,
   "metadata": {},
   "outputs": [
    {
     "name": "stdout",
     "output_type": "stream",
     "text": [
      "{\"error\":{\"root_cause\":[{\"type\":\"index_already_exists_exception\",\"reason\":\"index [customer/qxf6xU2sQ6263aPjs6-04A] already exists\",\"index_uuid\":\"qxf6xU2sQ6263aPjs6-04A\",\"index\":\"customer\"}],\"type\":\"index_already_exists_exception\",\"reason\":\"index [customer/qxf6xU2sQ6263aPjs6-04A] already exists\",\"index_uuid\":\"qxf6xU2sQ6263aPjs6-04A\",\"index\":\"customer\"},\"status\":400}\n",
      "health status index     uuid                   pri rep docs.count docs.deleted store.size pri.store.size\n",
      "yellow open   .kibana   L5hEXnBERGe6czr2OJchfg   1   1          2            1     10.8kb         10.8kb\n",
      "yellow open   zadolbali W7y-y1w-Q_S-7oMdE0_FSA   5   1          0            0       810b           810b\n",
      "yellow open   customer  qxf6xU2sQ6263aPjs6-04A   5   1          0            0       324b           324b\n",
      "\n"
     ]
    }
   ],
   "source": [
    "print(requests.put('http://localhost:9200/customer').text)\n",
    "print(requests.get('http://localhost:9200/_cat/indices?v').text)"
   ]
  },
  {
   "cell_type": "code",
   "execution_count": 8,
   "metadata": {},
   "outputs": [
    {
     "name": "stdout",
     "output_type": "stream",
     "text": [
      "{\"acknowledged\":true}\n"
     ]
    }
   ],
   "source": [
    "print(requests.delete('http://localhost:9200/test').text)"
   ]
  },
  {
   "cell_type": "code",
   "execution_count": 15,
   "metadata": {},
   "outputs": [
    {
     "name": "stdout",
     "output_type": "stream",
     "text": [
      "{\n",
      "  \"_index\" : \"customer\",\n",
      "  \"_type\" : \"external\",\n",
      "  \"_id\" : \"1\",\n",
      "  \"_version\" : 2,\n",
      "  \"result\" : \"updated\",\n",
      "  \"_shards\" : {\n",
      "    \"total\" : 2,\n",
      "    \"successful\" : 1,\n",
      "    \"failed\" : 0\n",
      "  },\n",
      "  \"created\" : false\n",
      "}\n",
      "\n"
     ]
    }
   ],
   "source": [
    "print(requests.put('http://localhost:9200/customer/external/1?pretty', headers=headers, data=json.dumps({\n",
    "  \"name\": \"Jane Doe\"\n",
    "})).text)"
   ]
  },
  {
   "cell_type": "code",
   "execution_count": 28,
   "metadata": {},
   "outputs": [
    {
     "name": "stdout",
     "output_type": "stream",
     "text": [
      "{\n",
      "  \"_index\" : \"customer\",\n",
      "  \"_type\" : \"external\",\n",
      "  \"_id\" : \"1\",\n",
      "  \"_version\" : 4,\n",
      "  \"found\" : true,\n",
      "  \"_source\" : {\n",
      "    \"name\" : \"Jane Doe\",\n",
      "    \"age\" : 25\n",
      "  }\n",
      "}\n",
      "\n"
     ]
    }
   ],
   "source": [
    "print(requests.get('http://localhost:9200/customer/external/1?pretty').text)"
   ]
  },
  {
   "cell_type": "code",
   "execution_count": 20,
   "metadata": {},
   "outputs": [
    {
     "name": "stdout",
     "output_type": "stream",
     "text": [
      "{\n",
      "  \"_index\" : \"customer\",\n",
      "  \"_type\" : \"external\",\n",
      "  \"_id\" : \"AV-L5b2i2_-3iU64yVCW\",\n",
      "  \"_version\" : 1,\n",
      "  \"result\" : \"created\",\n",
      "  \"_shards\" : {\n",
      "    \"total\" : 2,\n",
      "    \"successful\" : 1,\n",
      "    \"failed\" : 0\n",
      "  },\n",
      "  \"created\" : true\n",
      "}\n",
      "\n"
     ]
    }
   ],
   "source": [
    "print(requests.post('http://localhost:9200/customer/external?pretty', headers=headers, data=json.dumps({\n",
    "  \"name\": \"Jane Doe\"\n",
    "})).text)"
   ]
  },
  {
   "cell_type": "code",
   "execution_count": 27,
   "metadata": {},
   "outputs": [
    {
     "name": "stdout",
     "output_type": "stream",
     "text": [
      "{\n",
      "  \"_index\" : \"customer\",\n",
      "  \"_type\" : \"external\",\n",
      "  \"_id\" : \"1\",\n",
      "  \"_version\" : 4,\n",
      "  \"result\" : \"updated\",\n",
      "  \"_shards\" : {\n",
      "    \"total\" : 2,\n",
      "    \"successful\" : 1,\n",
      "    \"failed\" : 0\n",
      "  }\n",
      "}\n",
      "\n"
     ]
    }
   ],
   "source": [
    "print(requests.post('http://localhost:9200/customer/external/1/_update?pretty', headers=headers, data=json.dumps({\n",
    "  \"script\" : \"ctx._source.age += 5\"\n",
    "})).text)"
   ]
  },
  {
   "cell_type": "code",
   "execution_count": 33,
   "metadata": {},
   "outputs": [
    {
     "name": "stdout",
     "output_type": "stream",
     "text": [
      "{\n",
      "  \"found\" : true,\n",
      "  \"_index\" : \"customer\",\n",
      "  \"_type\" : \"external\",\n",
      "  \"_id\" : \"1\",\n",
      "  \"_version\" : 5,\n",
      "  \"result\" : \"deleted\",\n",
      "  \"_shards\" : {\n",
      "    \"total\" : 2,\n",
      "    \"successful\" : 1,\n",
      "    \"failed\" : 0\n",
      "  }\n",
      "}\n",
      "\n"
     ]
    }
   ],
   "source": [
    "print(requests.delete('http://localhost:9200/customer/external/1?pretty').text)"
   ]
  },
  {
   "cell_type": "code",
   "execution_count": 37,
   "metadata": {},
   "outputs": [
    {
     "name": "stdout",
     "output_type": "stream",
     "text": [
      "{\"error\":{\"root_cause\":[{\"type\":\"index_not_found_exception\",\"reason\":\"no such index\",\"resource.type\":\"index_or_alias\",\"resource.id\":\"bank\",\"index_uuid\":\"_na_\",\"index\":\"bank\"}],\"type\":\"index_not_found_exception\",\"reason\":\"no such index\",\"resource.type\":\"index_or_alias\",\"resource.id\":\"bank\",\"index_uuid\":\"_na_\",\"index\":\"bank\"},\"status\":404}\n",
      "{\"acknowledged\":true}\n"
     ]
    }
   ],
   "source": [
    "print(requests.delete('http://localhost:9200/bank').text)\n",
    "print(requests.delete('http://localhost:9200/customer').text)"
   ]
  },
  {
   "cell_type": "code",
   "execution_count": 39,
   "metadata": {},
   "outputs": [
    {
     "name": "stdout",
     "output_type": "stream",
     "text": [
      "{\n",
      "  \"zadolbali\" : {\n",
      "    \"aliases\" : { },\n",
      "    \"mappings\" : {\n",
      "      \"stories\" : {\n",
      "        \"properties\" : {\n",
      "          \"id\" : {\n",
      "            \"type\" : \"integer\"\n",
      "          },\n",
      "          \"likes\" : {\n",
      "            \"type\" : \"integer\"\n",
      "          },\n",
      "          \"published\" : {\n",
      "            \"type\" : \"date\",\n",
      "            \"format\" : \"yyyyMMdd\"\n",
      "          },\n",
      "          \"tags\" : {\n",
      "            \"type\" : \"text\",\n",
      "            \"fields\" : {\n",
      "              \"keyword\" : {\n",
      "                \"type\" : \"keyword\",\n",
      "                \"ignore_above\" : 256\n",
      "              }\n",
      "            }\n",
      "          },\n",
      "          \"text\" : {\n",
      "            \"type\" : \"text\",\n",
      "            \"fields\" : {\n",
      "              \"keyword\" : {\n",
      "                \"type\" : \"keyword\",\n",
      "                \"ignore_above\" : 256\n",
      "              }\n",
      "            }\n",
      "          },\n",
      "          \"title\" : {\n",
      "            \"type\" : \"text\",\n",
      "            \"fields\" : {\n",
      "              \"keyword\" : {\n",
      "                \"type\" : \"keyword\",\n",
      "                \"ignore_above\" : 256\n",
      "              }\n",
      "            }\n",
      "          },\n",
      "          \"url\" : {\n",
      "            \"type\" : \"text\",\n",
      "            \"fields\" : {\n",
      "              \"keyword\" : {\n",
      "                \"type\" : \"keyword\",\n",
      "                \"ignore_above\" : 256\n",
      "              }\n",
      "            }\n",
      "          }\n",
      "        }\n",
      "      },\n",
      "      \"story\" : {\n",
      "        \"properties\" : {\n",
      "          \"id\" : {\n",
      "            \"type\" : \"integer\"\n",
      "          },\n",
      "          \"likes\" : {\n",
      "            \"type\" : \"integer\"\n",
      "          },\n",
      "          \"published\" : {\n",
      "            \"type\" : \"date\",\n",
      "            \"format\" : \"yyyyMMdd\"\n",
      "          },\n",
      "          \"tags\" : {\n",
      "            \"type\" : \"text\"\n",
      "          },\n",
      "          \"text\" : {\n",
      "            \"type\" : \"text\"\n",
      "          },\n",
      "          \"title\" : {\n",
      "            \"type\" : \"text\"\n",
      "          },\n",
      "          \"url\" : {\n",
      "            \"type\" : \"text\"\n",
      "          }\n",
      "        }\n",
      "      }\n",
      "    },\n",
      "    \"settings\" : {\n",
      "      \"index\" : {\n",
      "        \"creation_date\" : \"1509882560528\",\n",
      "        \"number_of_shards\" : \"5\",\n",
      "        \"number_of_replicas\" : \"1\",\n",
      "        \"uuid\" : \"bPio5U0rRG6WPetRLzMvnQ\",\n",
      "        \"version\" : {\n",
      "          \"created\" : \"5060399\"\n",
      "        },\n",
      "        \"provided_name\" : \"zadolbali\"\n",
      "      }\n",
      "    }\n",
      "  }\n",
      "}\n",
      "\n"
     ]
    }
   ],
   "source": [
    "print(requests.get('http://localhost:9200/zadolbali?pretty').text)"
   ]
  },
  {
   "cell_type": "code",
   "execution_count": null,
   "metadata": {
    "collapsed": true
   },
   "outputs": [],
   "source": []
  }
 ],
 "metadata": {
  "kernelspec": {
   "display_name": "Python 3",
   "language": "python",
   "name": "python3"
  },
  "language_info": {
   "codemirror_mode": {
    "name": "ipython",
    "version": 3
   },
   "file_extension": ".py",
   "mimetype": "text/x-python",
   "name": "python",
   "nbconvert_exporter": "python",
   "pygments_lexer": "ipython3",
   "version": "3.6.2"
  }
 },
 "nbformat": 4,
 "nbformat_minor": 2
}
