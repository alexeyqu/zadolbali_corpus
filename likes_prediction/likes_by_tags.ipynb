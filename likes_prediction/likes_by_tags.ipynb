{
 "cells": [
  {
   "cell_type": "markdown",
   "metadata": {},
   "source": [
    "# Predict likes by tags"
   ]
  },
  {
   "cell_type": "markdown",
   "metadata": {},
   "source": [
    "## Getting the data"
   ]
  },
  {
   "cell_type": "code",
   "execution_count": 17,
   "metadata": {
    "collapsed": true
   },
   "outputs": [],
   "source": [
    "import sys\n",
    "import warnings\n",
    "from tqdm import tqdm\n",
    "\n",
    "import csv\n",
    "import pandas as pd\n",
    "import matplotlib.pyplot as plt\n",
    "\n",
    "from sqlalchemy.ext.declarative import declarative_base\n",
    "from sqlalchemy import create_engine, Table, Column, Integer, String, Boolean, DateTime, Date, MetaData, ForeignKey\n",
    "from sqlalchemy.engine.url import URL\n",
    "from sqlalchemy.orm import sessionmaker\n",
    "from sqlalchemy.pool import NullPool\n",
    "local_name = 'sqlite:///../corpus/stories.sqlite'\n",
    "engine = create_engine(local_name, echo=True)\n",
    "\n",
    "%matplotlib inline"
   ]
  },
  {
   "cell_type": "code",
   "execution_count": 118,
   "metadata": {},
   "outputs": [
    {
     "name": "stdout",
     "output_type": "stream",
     "text": [
      "2018-03-21 04:14:35,330 INFO sqlalchemy.engine.base.Engine SELECT CAST('test plain returns' AS VARCHAR(60)) AS anon_1\n"
     ]
    },
    {
     "name": "stderr",
     "output_type": "stream",
     "text": [
      "INFO:sqlalchemy.engine.base.Engine:SELECT CAST('test plain returns' AS VARCHAR(60)) AS anon_1\n"
     ]
    },
    {
     "name": "stdout",
     "output_type": "stream",
     "text": [
      "2018-03-21 04:14:35,338 INFO sqlalchemy.engine.base.Engine ()\n"
     ]
    },
    {
     "name": "stderr",
     "output_type": "stream",
     "text": [
      "INFO:sqlalchemy.engine.base.Engine:()\n"
     ]
    },
    {
     "name": "stdout",
     "output_type": "stream",
     "text": [
      "2018-03-21 04:14:35,343 INFO sqlalchemy.engine.base.Engine SELECT CAST('test unicode returns' AS VARCHAR(60)) AS anon_1\n"
     ]
    },
    {
     "name": "stderr",
     "output_type": "stream",
     "text": [
      "INFO:sqlalchemy.engine.base.Engine:SELECT CAST('test unicode returns' AS VARCHAR(60)) AS anon_1\n"
     ]
    },
    {
     "name": "stdout",
     "output_type": "stream",
     "text": [
      "2018-03-21 04:14:35,348 INFO sqlalchemy.engine.base.Engine ()\n"
     ]
    },
    {
     "name": "stderr",
     "output_type": "stream",
     "text": [
      "INFO:sqlalchemy.engine.base.Engine:()\n"
     ]
    },
    {
     "name": "stdout",
     "output_type": "stream",
     "text": [
      "2018-03-21 04:14:35,351 INFO sqlalchemy.engine.base.Engine select * from stories\n"
     ]
    },
    {
     "name": "stderr",
     "output_type": "stream",
     "text": [
      "INFO:sqlalchemy.engine.base.Engine:select * from stories\n"
     ]
    },
    {
     "name": "stdout",
     "output_type": "stream",
     "text": [
      "2018-03-21 04:14:35,353 INFO sqlalchemy.engine.base.Engine ()\n"
     ]
    },
    {
     "name": "stderr",
     "output_type": "stream",
     "text": [
      "INFO:sqlalchemy.engine.base.Engine:()\n"
     ]
    }
   ],
   "source": [
    "df = pd.read_sql_query('select * from stories', engine)\n"
   ]
  },
  {
   "cell_type": "code",
   "execution_count": 119,
   "metadata": {},
   "outputs": [
    {
     "name": "stdout",
     "output_type": "stream",
     "text": [
      "(23558, 8)\n"
     ]
    },
    {
     "data": {
      "text/html": [
       "<div>\n",
       "<style scoped>\n",
       "    .dataframe tbody tr th:only-of-type {\n",
       "        vertical-align: middle;\n",
       "    }\n",
       "\n",
       "    .dataframe tbody tr th {\n",
       "        vertical-align: top;\n",
       "    }\n",
       "\n",
       "    .dataframe thead th {\n",
       "        text-align: right;\n",
       "    }\n",
       "</style>\n",
       "<table border=\"1\" class=\"dataframe\">\n",
       "  <thead>\n",
       "    <tr style=\"text-align: right;\">\n",
       "      <th></th>\n",
       "      <th>id</th>\n",
       "      <th>title</th>\n",
       "      <th>published</th>\n",
       "      <th>tags</th>\n",
       "      <th>text</th>\n",
       "      <th>likes</th>\n",
       "      <th>hrefs</th>\n",
       "      <th>url</th>\n",
       "    </tr>\n",
       "  </thead>\n",
       "  <tbody>\n",
       "    <tr>\n",
       "      <th>0</th>\n",
       "      <td>2</td>\n",
       "      <td>Это был не металл!</td>\n",
       "      <td>20090910</td>\n",
       "      <td>women sellers</td>\n",
       "      <td>Работаю в провинциальном городе в магазине отд...</td>\n",
       "      <td>0</td>\n",
       "      <td></td>\n",
       "      <td>http://zadolba.li/story/2</td>\n",
       "    </tr>\n",
       "    <tr>\n",
       "      <th>1</th>\n",
       "      <td>4</td>\n",
       "      <td>Интернет — он большой!</td>\n",
       "      <td>20090915</td>\n",
       "      <td>advert</td>\n",
       "      <td>В понедельник у меня образовался очередной кли...</td>\n",
       "      <td>0</td>\n",
       "      <td></td>\n",
       "      <td>http://zadolba.li/story/4</td>\n",
       "    </tr>\n",
       "    <tr>\n",
       "      <th>2</th>\n",
       "      <td>5</td>\n",
       "      <td>Атака одушевленного обьекта</td>\n",
       "      <td>20090915</td>\n",
       "      <td>insurers mail</td>\n",
       "      <td>Работаю в страховой компании. Любимые клиенты ...</td>\n",
       "      <td>0</td>\n",
       "      <td></td>\n",
       "      <td>http://zadolba.li/story/5</td>\n",
       "    </tr>\n",
       "    <tr>\n",
       "      <th>3</th>\n",
       "      <td>6</td>\n",
       "      <td>Мы его почти победили!</td>\n",
       "      <td>20091006</td>\n",
       "      <td>mail</td>\n",
       "      <td>Переписка с клиентом:Я: Здравствуйте, а у вас ...</td>\n",
       "      <td>828</td>\n",
       "      <td></td>\n",
       "      <td>http://zadolba.li/story/6</td>\n",
       "    </tr>\n",
       "    <tr>\n",
       "      <th>4</th>\n",
       "      <td>8</td>\n",
       "      <td>На фирму Маше</td>\n",
       "      <td>20091006</td>\n",
       "      <td>byphone secretaries</td>\n",
       "      <td>Работаю секретарем. Люди встречаются разные.Я:...</td>\n",
       "      <td>1127</td>\n",
       "      <td></td>\n",
       "      <td>http://zadolba.li/story/8</td>\n",
       "    </tr>\n",
       "  </tbody>\n",
       "</table>\n",
       "</div>"
      ],
      "text/plain": [
       "   id                        title  published                 tags  \\\n",
       "0   2           Это был не металл!   20090910        women sellers   \n",
       "1   4       Интернет — он большой!   20090915               advert   \n",
       "2   5  Атака одушевленного обьекта   20090915        insurers mail   \n",
       "3   6       Мы его почти победили!   20091006                 mail   \n",
       "4   8                На фирму Маше   20091006  byphone secretaries   \n",
       "\n",
       "                                                text  likes hrefs  \\\n",
       "0  Работаю в провинциальном городе в магазине отд...      0         \n",
       "1  В понедельник у меня образовался очередной кли...      0         \n",
       "2  Работаю в страховой компании. Любимые клиенты ...      0         \n",
       "3  Переписка с клиентом:Я: Здравствуйте, а у вас ...    828         \n",
       "4  Работаю секретарем. Люди встречаются разные.Я:...   1127         \n",
       "\n",
       "                         url  \n",
       "0  http://zadolba.li/story/2  \n",
       "1  http://zadolba.li/story/4  \n",
       "2  http://zadolba.li/story/5  \n",
       "3  http://zadolba.li/story/6  \n",
       "4  http://zadolba.li/story/8  "
      ]
     },
     "execution_count": 119,
     "metadata": {},
     "output_type": "execute_result"
    }
   ],
   "source": [
    "print(df.shape)\n",
    "df.head()"
   ]
  },
  {
   "cell_type": "markdown",
   "metadata": {},
   "source": [
    "## Easy mode: tags -> likes"
   ]
  },
  {
   "cell_type": "code",
   "execution_count": 234,
   "metadata": {
    "collapsed": true
   },
   "outputs": [],
   "source": [
    "from sklearn.model_selection import train_test_split\n",
    "from sklearn import linear_model\n",
    "from sklearn.preprocessing import LabelEncoder, OneHotEncoder"
   ]
  },
  {
   "cell_type": "code",
   "execution_count": 235,
   "metadata": {},
   "outputs": [
    {
     "name": "stdout",
     "output_type": "stream",
     "text": [
      "(23558, 2)\n"
     ]
    },
    {
     "data": {
      "text/html": [
       "<div>\n",
       "<style scoped>\n",
       "    .dataframe tbody tr th:only-of-type {\n",
       "        vertical-align: middle;\n",
       "    }\n",
       "\n",
       "    .dataframe tbody tr th {\n",
       "        vertical-align: top;\n",
       "    }\n",
       "\n",
       "    .dataframe thead th {\n",
       "        text-align: right;\n",
       "    }\n",
       "</style>\n",
       "<table border=\"1\" class=\"dataframe\">\n",
       "  <thead>\n",
       "    <tr style=\"text-align: right;\">\n",
       "      <th></th>\n",
       "      <th>tags</th>\n",
       "      <th>likes</th>\n",
       "    </tr>\n",
       "  </thead>\n",
       "  <tbody>\n",
       "    <tr>\n",
       "      <th>0</th>\n",
       "      <td>women sellers</td>\n",
       "      <td>0</td>\n",
       "    </tr>\n",
       "    <tr>\n",
       "      <th>1</th>\n",
       "      <td>advert</td>\n",
       "      <td>0</td>\n",
       "    </tr>\n",
       "    <tr>\n",
       "      <th>2</th>\n",
       "      <td>insurers mail</td>\n",
       "      <td>0</td>\n",
       "    </tr>\n",
       "    <tr>\n",
       "      <th>3</th>\n",
       "      <td>mail</td>\n",
       "      <td>828</td>\n",
       "    </tr>\n",
       "    <tr>\n",
       "      <th>4</th>\n",
       "      <td>byphone secretaries</td>\n",
       "      <td>1127</td>\n",
       "    </tr>\n",
       "    <tr>\n",
       "      <th>5</th>\n",
       "      <td>women</td>\n",
       "      <td>2882</td>\n",
       "    </tr>\n",
       "    <tr>\n",
       "      <th>6</th>\n",
       "      <td>women</td>\n",
       "      <td>2412</td>\n",
       "    </tr>\n",
       "    <tr>\n",
       "      <th>7</th>\n",
       "      <td>advert</td>\n",
       "      <td>2554</td>\n",
       "    </tr>\n",
       "    <tr>\n",
       "      <th>8</th>\n",
       "      <td>secretaries</td>\n",
       "      <td>2399</td>\n",
       "    </tr>\n",
       "    <tr>\n",
       "      <th>9</th>\n",
       "      <td>byphone</td>\n",
       "      <td>4241</td>\n",
       "    </tr>\n",
       "  </tbody>\n",
       "</table>\n",
       "</div>"
      ],
      "text/plain": [
       "                  tags  likes\n",
       "0        women sellers      0\n",
       "1               advert      0\n",
       "2        insurers mail      0\n",
       "3                 mail    828\n",
       "4  byphone secretaries   1127\n",
       "5                women   2882\n",
       "6                women   2412\n",
       "7               advert   2554\n",
       "8          secretaries   2399\n",
       "9              byphone   4241"
      ]
     },
     "execution_count": 235,
     "metadata": {},
     "output_type": "execute_result"
    }
   ],
   "source": [
    "df_tags_likes = df[['tags', 'likes']]\n",
    "print(df_tags_likes.shape)\n",
    "df_tags_likes[:10]"
   ]
  },
  {
   "cell_type": "code",
   "execution_count": 248,
   "metadata": {},
   "outputs": [],
   "source": [
    "from sklearn.preprocessing import Binarizer\n",
    "from sklearn.feature_extraction.text import CountVectorizer\n",
    "\n",
    "vectorizer = CountVectorizer()\n",
    "X, y = vectorizer.fit_transform(df_tags_likes['tags']), df_tags_likes['likes'].values\n",
    "# one_hot_df = pd.DataFrame(X.toarray(), columns=sorted(vectorizer.vocabulary_, key=lambda k: vectorizer.vocabulary_[k]))"
   ]
  },
  {
   "cell_type": "code",
   "execution_count": 249,
   "metadata": {},
   "outputs": [
    {
     "data": {
      "text/plain": [
       "(<23558x66 sparse matrix of type '<class 'numpy.int64'>'\n",
       " \twith 39060 stored elements in Compressed Sparse Row format>,\n",
       " array([  0,   0,   0, ..., 541, 530, 860]))"
      ]
     },
     "execution_count": 249,
     "metadata": {},
     "output_type": "execute_result"
    }
   ],
   "source": [
    "# one_hot_df['likes'] = df_tags_likes['likes']\n",
    "# one_hot_df.shape\n",
    "X, y"
   ]
  },
  {
   "cell_type": "code",
   "execution_count": 252,
   "metadata": {},
   "outputs": [],
   "source": [
    "X_train, X_test, y_train, y_test = train_test_split(X, y, test_size=0.2)"
   ]
  },
  {
   "cell_type": "code",
   "execution_count": 253,
   "metadata": {},
   "outputs": [],
   "source": [
    "lm = linear_model.LinearRegression()\n",
    "model = lm.fit(X_train, y_train)\n"
   ]
  },
  {
   "cell_type": "code",
   "execution_count": 254,
   "metadata": {},
   "outputs": [
    {
     "data": {
      "text/plain": [
       "0.11439169094616364"
      ]
     },
     "execution_count": 254,
     "metadata": {},
     "output_type": "execute_result"
    }
   ],
   "source": [
    "lm.score(X_test, y_test)"
   ]
  },
  {
   "cell_type": "markdown",
   "metadata": {},
   "source": [
    "## Now let's try text"
   ]
  },
  {
   "cell_type": "code",
   "execution_count": 258,
   "metadata": {},
   "outputs": [
    {
     "name": "stdout",
     "output_type": "stream",
     "text": [
      "(23558, 2)\n",
      "(18846, 252225) (4712, 252225) (18846,) (4712,)\n"
     ]
    },
    {
     "data": {
      "text/plain": [
       "-0.23939961968084658"
      ]
     },
     "execution_count": 258,
     "metadata": {},
     "output_type": "execute_result"
    }
   ],
   "source": [
    "df_text_likes = df[['text', 'likes']]\n",
    "print(df_text_likes.shape)\n",
    "\n",
    "vectorizer = CountVectorizer()\n",
    "X, y = vectorizer.fit_transform(df_text_likes['text']), df_text_likes['likes']\n",
    "\n",
    "X_train, X_test, y_train, y_test = train_test_split(X, y, test_size=0.2)\n",
    "\n",
    "print(X_train.shape, X_test.shape, y_train.shape, y_test.shape)\n",
    "\n",
    "lm = linear_model.LinearRegression()\n",
    "model = lm.fit(X_train, y_train)\n",
    "\n",
    "lm.score(X_test, y_test)"
   ]
  },
  {
   "cell_type": "code",
   "execution_count": 261,
   "metadata": {},
   "outputs": [
    {
     "name": "stdout",
     "output_type": "stream",
     "text": [
      "(23558, 2)\n",
      "(18846, 252225) (4712, 252225) (18846,) (4712,)\n"
     ]
    },
    {
     "data": {
      "text/plain": [
       "0.090341157290913188"
      ]
     },
     "execution_count": 261,
     "metadata": {},
     "output_type": "execute_result"
    }
   ],
   "source": [
    "from sklearn.feature_extraction.text import TfidfVectorizer\n",
    "\n",
    "df_text_likes = df[['text', 'likes']]\n",
    "print(df_text_likes.shape)\n",
    "\n",
    "vectorizer  = TfidfVectorizer()\n",
    "X, y = vectorizer.fit_transform(df_text_likes['text']), df_text_likes['likes']\n",
    "\n",
    "X_train, X_test, y_train, y_test = train_test_split(X, y, test_size=0.2)\n",
    "\n",
    "print(X_train.shape, X_test.shape, y_train.shape, y_test.shape)\n",
    "\n",
    "lm = linear_model.LinearRegression()\n",
    "model = lm.fit(X_train, y_train)\n",
    "\n",
    "lm.score(X_test, y_test)"
   ]
  },
  {
   "cell_type": "code",
   "execution_count": null,
   "metadata": {
    "collapsed": true
   },
   "outputs": [],
   "source": []
  }
 ],
 "metadata": {
  "kernelspec": {
   "display_name": "Python 3",
   "language": "python",
   "name": "python3"
  },
  "language_info": {
   "codemirror_mode": {
    "name": "ipython",
    "version": 3
   },
   "file_extension": ".py",
   "mimetype": "text/x-python",
   "name": "python",
   "nbconvert_exporter": "python",
   "pygments_lexer": "ipython3",
   "version": "3.6.3"
  }
 },
 "nbformat": 4,
 "nbformat_minor": 2
}
